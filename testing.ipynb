{
 "cells": [
  {
   "cell_type": "markdown",
   "metadata": {},
   "source": [
    "# LDA for Topic Modeling\n",
    "Ravindra Bisram"
   ]
  },
  {
   "cell_type": "markdown",
   "metadata": {},
   "source": [
    "<font color=red>**Topic Modeling**</font> - technique used in NLP to automatically discover latent topics or themes in a collection of documents. \n",
    "- The goal of topic modeling is to uncover the underlying semantic structure of a corpus of text by identifying patterns of co-occurring words, and to use these patterns to infer a set of topics that are present in the corpus.\n",
    "\n",
    "The most popular technique for topic modeling is <font color=green>**Latent Dirichlet Allocation (LDA)**</font>.\n",
    "- Represents each document as a mixture of topics and each topic as a probability distribution over words. \n",
    "- LDA then identifies the most probable topics for each document in the corpus and the most probable words for each topic.\n",
    "\n",
    "In practice, the LDA algorithm works by iteratively estimating the topic distributions for each document in the corpus and the word distributions for each topic. This is typically done using a technique called <font color=yellow>Gibbs sampling</font>, which involves randomly assigning topic labels to each word in the corpus and then iteratively updating the topic assignments based on the current estimates of the topic and word distributions.\n",
    "\n",
    "The resulting topic distributions can then be used for a wide range of applications, including text classification, information retrieval, and recommendation systems."
   ]
  },
  {
   "cell_type": "markdown",
   "metadata": {},
   "source": [
    "## Imports"
   ]
  },
  {
   "cell_type": "code",
   "execution_count": 58,
   "metadata": {},
   "outputs": [
    {
     "name": "stderr",
     "output_type": "stream",
     "text": [
      "[nltk_data] Downloading package stopwords to\n",
      "[nltk_data]     /Users/bisramr/nltk_data...\n",
      "[nltk_data]   Package stopwords is already up-to-date!\n"
     ]
    }
   ],
   "source": [
    "import warnings\n",
    "warnings.filterwarnings('ignore',category=DeprecationWarning)\n",
    "\n",
    "# import libraries\n",
    "import numpy as np\n",
    "import pandas as pd\n",
    "import nltk\n",
    "nltk.download('stopwords')\n",
    "import matplotlib.pyplot as plt\n",
    "import re,random,os\n",
    "import seaborn as sns\n",
    "from nltk.corpus import stopwords\n",
    "import string\n",
    "from pprint import pprint as pprint\n",
    "\n",
    "# spacy for basic processing, optional, can use nltk as well(lemmatisation etc.)\n",
    "import spacy\n",
    "\n",
    "#gensim for LDA\n",
    "import gensim\n",
    "import gensim.corpora as corpora\n",
    "from gensim.utils import simple_preprocess\n",
    "from gensim.models import CoherenceModel\n",
    "\n",
    "#plotting tools\n",
    "import pyLDAvis\n",
    "import pyLDAvis.gensim #dont skip this\n",
    "import matplotlib.pyplot as plt\n",
    "%matplotlib inline\n",
    "\n",
    "import topic_modeling as tm\n",
    "import importlib\n",
    "importlib.reload(tm)\n",
    "\n",
    "%reload_ext autoreload\n",
    "%autoreload 2\n",
    "\n",
    "# https://www.kaggle.com/datasets/jonathanbesomi/superheroes-nlp-dataset\n",
    "# https://www.machinelearningplus.com/nlp/topic-modeling-gensim-python/#9createbigramandtrigrammodels\n",
    "# https://www.kaggle.com/code/anityagangurde/news-lda-topicmodelling\n",
    "# https://www.kaggle.com/code/datajameson/topic-modelling-nlp-amazon-reviews-bbc-news/notebook#Hyperparameter-Tuning---Number-of-Topics-and-Alpha\n",
    "\n"
   ]
  },
  {
   "cell_type": "code",
   "execution_count": 66,
   "metadata": {},
   "outputs": [
    {
     "name": "stdout",
     "output_type": "stream",
     "text": [
      "Collecting en-core-web-sm==3.5.0\n",
      "  Downloading https://github.com/explosion/spacy-models/releases/download/en_core_web_sm-3.5.0/en_core_web_sm-3.5.0-py3-none-any.whl (12.8 MB)\n",
      "     ━━━━━━━━━━━━━━━━━━━━━━━━━━━━━━━━━━━━━━━━ 12.8/12.8 MB 40.4 MB/s eta 0:00:00\n",
      "Requirement already satisfied: spacy<3.6.0,>=3.5.0 in ./venv/lib/python3.11/site-packages (from en-core-web-sm==3.5.0) (3.5.2)\n",
      "Requirement already satisfied: spacy-legacy<3.1.0,>=3.0.11 in ./venv/lib/python3.11/site-packages (from spacy<3.6.0,>=3.5.0->en-core-web-sm==3.5.0) (3.0.12)\n",
      "Requirement already satisfied: spacy-loggers<2.0.0,>=1.0.0 in ./venv/lib/python3.11/site-packages (from spacy<3.6.0,>=3.5.0->en-core-web-sm==3.5.0) (1.0.4)\n",
      "Requirement already satisfied: murmurhash<1.1.0,>=0.28.0 in ./venv/lib/python3.11/site-packages (from spacy<3.6.0,>=3.5.0->en-core-web-sm==3.5.0) (1.0.9)\n",
      "Requirement already satisfied: cymem<2.1.0,>=2.0.2 in ./venv/lib/python3.11/site-packages (from spacy<3.6.0,>=3.5.0->en-core-web-sm==3.5.0) (2.0.7)\n",
      "Requirement already satisfied: preshed<3.1.0,>=3.0.2 in ./venv/lib/python3.11/site-packages (from spacy<3.6.0,>=3.5.0->en-core-web-sm==3.5.0) (3.0.8)\n",
      "Requirement already satisfied: thinc<8.2.0,>=8.1.8 in ./venv/lib/python3.11/site-packages (from spacy<3.6.0,>=3.5.0->en-core-web-sm==3.5.0) (8.1.10)\n",
      "Requirement already satisfied: wasabi<1.2.0,>=0.9.1 in ./venv/lib/python3.11/site-packages (from spacy<3.6.0,>=3.5.0->en-core-web-sm==3.5.0) (1.1.1)\n",
      "Requirement already satisfied: srsly<3.0.0,>=2.4.3 in ./venv/lib/python3.11/site-packages (from spacy<3.6.0,>=3.5.0->en-core-web-sm==3.5.0) (2.4.6)\n",
      "Requirement already satisfied: catalogue<2.1.0,>=2.0.6 in ./venv/lib/python3.11/site-packages (from spacy<3.6.0,>=3.5.0->en-core-web-sm==3.5.0) (2.0.8)\n",
      "Requirement already satisfied: typer<0.8.0,>=0.3.0 in ./venv/lib/python3.11/site-packages (from spacy<3.6.0,>=3.5.0->en-core-web-sm==3.5.0) (0.7.0)\n",
      "Requirement already satisfied: pathy>=0.10.0 in ./venv/lib/python3.11/site-packages (from spacy<3.6.0,>=3.5.0->en-core-web-sm==3.5.0) (0.10.1)\n",
      "Requirement already satisfied: smart-open<7.0.0,>=5.2.1 in ./venv/lib/python3.11/site-packages (from spacy<3.6.0,>=3.5.0->en-core-web-sm==3.5.0) (6.3.0)\n",
      "Requirement already satisfied: tqdm<5.0.0,>=4.38.0 in ./venv/lib/python3.11/site-packages (from spacy<3.6.0,>=3.5.0->en-core-web-sm==3.5.0) (4.65.0)\n",
      "Requirement already satisfied: numpy>=1.15.0 in ./venv/lib/python3.11/site-packages (from spacy<3.6.0,>=3.5.0->en-core-web-sm==3.5.0) (1.24.3)\n",
      "Requirement already satisfied: requests<3.0.0,>=2.13.0 in ./venv/lib/python3.11/site-packages (from spacy<3.6.0,>=3.5.0->en-core-web-sm==3.5.0) (2.30.0)\n",
      "Requirement already satisfied: pydantic!=1.8,!=1.8.1,<1.11.0,>=1.7.4 in ./venv/lib/python3.11/site-packages (from spacy<3.6.0,>=3.5.0->en-core-web-sm==3.5.0) (1.10.7)\n",
      "Requirement already satisfied: jinja2 in ./venv/lib/python3.11/site-packages (from spacy<3.6.0,>=3.5.0->en-core-web-sm==3.5.0) (3.1.2)\n",
      "Requirement already satisfied: setuptools in ./venv/lib/python3.11/site-packages (from spacy<3.6.0,>=3.5.0->en-core-web-sm==3.5.0) (65.6.3)\n",
      "Requirement already satisfied: packaging>=20.0 in ./venv/lib/python3.11/site-packages (from spacy<3.6.0,>=3.5.0->en-core-web-sm==3.5.0) (23.1)\n",
      "Requirement already satisfied: langcodes<4.0.0,>=3.2.0 in ./venv/lib/python3.11/site-packages (from spacy<3.6.0,>=3.5.0->en-core-web-sm==3.5.0) (3.3.0)\n",
      "Requirement already satisfied: typing-extensions>=4.2.0 in ./venv/lib/python3.11/site-packages (from pydantic!=1.8,!=1.8.1,<1.11.0,>=1.7.4->spacy<3.6.0,>=3.5.0->en-core-web-sm==3.5.0) (4.5.0)\n",
      "Requirement already satisfied: charset-normalizer<4,>=2 in ./venv/lib/python3.11/site-packages (from requests<3.0.0,>=2.13.0->spacy<3.6.0,>=3.5.0->en-core-web-sm==3.5.0) (3.1.0)\n",
      "Requirement already satisfied: idna<4,>=2.5 in ./venv/lib/python3.11/site-packages (from requests<3.0.0,>=2.13.0->spacy<3.6.0,>=3.5.0->en-core-web-sm==3.5.0) (3.4)\n",
      "Requirement already satisfied: urllib3<3,>=1.21.1 in ./venv/lib/python3.11/site-packages (from requests<3.0.0,>=2.13.0->spacy<3.6.0,>=3.5.0->en-core-web-sm==3.5.0) (2.0.2)\n",
      "Requirement already satisfied: certifi>=2017.4.17 in ./venv/lib/python3.11/site-packages (from requests<3.0.0,>=2.13.0->spacy<3.6.0,>=3.5.0->en-core-web-sm==3.5.0) (2023.5.7)\n",
      "Requirement already satisfied: blis<0.8.0,>=0.7.8 in ./venv/lib/python3.11/site-packages (from thinc<8.2.0,>=8.1.8->spacy<3.6.0,>=3.5.0->en-core-web-sm==3.5.0) (0.7.9)\n",
      "Requirement already satisfied: confection<1.0.0,>=0.0.1 in ./venv/lib/python3.11/site-packages (from thinc<8.2.0,>=8.1.8->spacy<3.6.0,>=3.5.0->en-core-web-sm==3.5.0) (0.0.4)\n",
      "Requirement already satisfied: click<9.0.0,>=7.1.1 in ./venv/lib/python3.11/site-packages (from typer<0.8.0,>=0.3.0->spacy<3.6.0,>=3.5.0->en-core-web-sm==3.5.0) (8.1.3)\n",
      "Requirement already satisfied: MarkupSafe>=2.0 in ./venv/lib/python3.11/site-packages (from jinja2->spacy<3.6.0,>=3.5.0->en-core-web-sm==3.5.0) (2.1.2)\n",
      "\u001b[38;5;2m✔ Download and installation successful\u001b[0m\n",
      "You can now load the package via spacy.load('en_core_web_sm')\n"
     ]
    },
    {
     "name": "stderr",
     "output_type": "stream",
     "text": [
      "\n",
      "[notice] A new release of pip available: 22.3.1 -> 23.1.2\n",
      "[notice] To update, run: pip install --upgrade pip\n"
     ]
    }
   ],
   "source": [
    "# Full NLP pipeline for english\n",
    "spacy.cli.download(\"en_core_web_sm\")"
   ]
  },
  {
   "cell_type": "markdown",
   "metadata": {},
   "source": [
    "## Preprocessing"
   ]
  },
  {
   "cell_type": "code",
   "execution_count": 62,
   "metadata": {},
   "outputs": [
    {
     "name": "stdout",
     "output_type": "stream",
     "text": [
      "   ArticleId                                               Text  Category\n",
      "0       1833  worldcom ex-boss launches defence lawyers defe...  business\n",
      "1        154  german business confidence slides german busin...  business\n",
      "2       1101  bbc poll indicates economic gloom citizens in ...  business\n",
      "3       1976  lifestyle  governs mobile choice  faster  bett...      tech\n",
      "4        917  enron bosses in $168m payout eighteen former e...  business\n",
      "\n",
      "<class 'pandas.core.frame.DataFrame'>\n",
      "RangeIndex: 1490 entries, 0 to 1489\n",
      "Data columns (total 3 columns):\n",
      " #   Column     Non-Null Count  Dtype \n",
      "---  ------     --------------  ----- \n",
      " 0   ArticleId  1490 non-null   int64 \n",
      " 1   Text       1490 non-null   object\n",
      " 2   Category   1490 non-null   object\n",
      "dtypes: int64(1), object(2)\n",
      "memory usage: 35.1+ KB\n",
      "None\n"
     ]
    }
   ],
   "source": [
    "df = pd.read_csv('BBC-News-Train.csv')\n",
    "print(df.head())\n",
    "print()\n",
    "print(df.info())"
   ]
  },
  {
   "cell_type": "code",
   "execution_count": 10,
   "metadata": {},
   "outputs": [
    {
     "name": "stdout",
     "output_type": "stream",
     "text": [
      "   ArticleId                                               Text  Category\n",
      "0       1833  worldcom ex-boss launches defence lawyers defe...  business\n",
      "1        154  german business confidence slides german busin...  business\n",
      "2       1101  bbc poll indicates economic gloom citizens in ...  business\n",
      "4        917  enron bosses in $168m payout eighteen former e...  business\n",
      "8       2034  car giant hit by mercedes slump a slump in pro...  business\n"
     ]
    }
   ],
   "source": [
    "business_df = df[df['Category'] == 'business']\n",
    "print(business_df.head())"
   ]
  },
  {
   "cell_type": "markdown",
   "metadata": {},
   "source": [
    "## Generate dicitonary and word corpus"
   ]
  },
  {
   "cell_type": "code",
   "execution_count": 73,
   "metadata": {},
   "outputs": [
    {
     "name": "stdout",
     "output_type": "stream",
     "text": [
      "['profile', 'david', 'miliband', 'david', 'miliband', 'rapid', 'rise', 'through', 'the', 'ranks']\n"
     ]
    }
   ],
   "source": [
    "# Convert text corpus to list\n",
    "data = df['Text'].values.tolist()\n",
    "data_words = list(tm.sent_to_words(data))\n",
    "\n",
    "# First 10 words of random sample\n",
    "sample_index = 543\n",
    "print(data_words[sample_index][0:10])"
   ]
  },
  {
   "cell_type": "code",
   "execution_count": 64,
   "metadata": {},
   "outputs": [],
   "source": [
    "# Create list of stop words\n",
    "# string.punctuation (from 'string' module) contains a list of punctuations\n",
    "stop_words = stopwords.words('english') + list(string.punctuation)"
   ]
  },
  {
   "cell_type": "code",
   "execution_count": 74,
   "metadata": {},
   "outputs": [
    {
     "name": "stdout",
     "output_type": "stream",
     "text": [
      "['profile', 'rapid', 'rise', 'rank', 'government', 'continue', 'minister', 'elect', 'safe', 'labour']\n",
      "profile david miliband david miliband rapid rise through the ranks of government continues with his promotion to cabinet office minister \n",
      "\n",
      "profile rapid rise rank government continue minister elect safe labour seat previous job school standard minister role prior last election\n"
     ]
    }
   ],
   "source": [
    "# Remove stop words\n",
    "data_words_npstops= tm.remove_stopwords(data_words, stop_words)\n",
    "\n",
    "# lemmatization keeping only noun, adj, vb, adv\n",
    "data_lemmatized = tm.lemmatization(data_words_npstops, allowed_postags=['NOUN', 'ADJ', 'VERB', 'ADV'])\n",
    "\n",
    "print(data_lemmatized[sample_index][0:10])\n",
    "\n",
    "# Compare the nostop, lemmatised version with the original one\n",
    "print(' '.join(data_words[sample_index][0:20]), '\\n')\n",
    "print(' '.join(data_lemmatized[sample_index][0:20]))\n"
   ]
  },
  {
   "cell_type": "code",
   "execution_count": 44,
   "metadata": {},
   "outputs": [
    {
     "name": "stdout",
     "output_type": "stream",
     "text": [
      "[(4, 3), (39, 2), (41, 1), (43, 1), (63, 1), (78, 1), (81, 11), (91, 1), (99, 1), (108, 1), (122, 5), (124, 8), (132, 1), (135, 1), (136, 1), (137, 1), (152, 1), (156, 1), (169, 1), (175, 2), (198, 1), (207, 1), (208, 1), (209, 1), (210, 1), (211, 1), (212, 1), (213, 1), (214, 1), (215, 1), (216, 4), (217, 3), (218, 1), (219, 1), (220, 1), (221, 2), (222, 1), (223, 3), (224, 1), (225, 12), (226, 1), (227, 1), (228, 1), (229, 1), (230, 1), (231, 1), (232, 1), (233, 1), (234, 1), (235, 1), (236, 1), (237, 1), (238, 1), (239, 1), (240, 4), (241, 1), (242, 1), (243, 1), (244, 1), (245, 2), (246, 3), (247, 1), (248, 1), (249, 1), (250, 1), (251, 1), (252, 3), (253, 1), (254, 2), (255, 2), (256, 1), (257, 1), (258, 3), (259, 1), (260, 1), (261, 1), (262, 1), (263, 2), (264, 2), (265, 7), (266, 1), (267, 1), (268, 1), (269, 1), (270, 3), (271, 1), (272, 1), (273, 2), (274, 1), (275, 1), (276, 1), (277, 1), (278, 4), (279, 1), (280, 1), (281, 1), (282, 1), (283, 1), (284, 1), (285, 2), (286, 1), (287, 5), (288, 2), (289, 1), (290, 1), (291, 1), (292, 1), (293, 2), (294, 1), (295, 1), (296, 1), (297, 1), (298, 2), (299, 1), (300, 1), (301, 1), (302, 1), (303, 1), (304, 1), (305, 1), (306, 1), (307, 1), (308, 1), (309, 1), (310, 1), (311, 1), (312, 7), (313, 1)]\n"
     ]
    }
   ],
   "source": [
    "# Create dictionary and corpus\n",
    "\n",
    "# Create dictionary (id for each word)\n",
    "id2word = corpora.Dictionary(data_lemmatized)\n",
    "# Create corpus (term-frequency)\n",
    "corpus = [id2word.doc2bow(text) for text in data_lemmatized]\n",
    "\n",
    "print(corpus[sample_index])"
   ]
  },
  {
   "cell_type": "code",
   "execution_count": 77,
   "metadata": {},
   "outputs": [
    {
     "name": "stdout",
     "output_type": "stream",
     "text": [
      "[[('accounting', 7), ('adjustment', 1), ('agree', 1), ('alert', 2), ('also', 1), ('answer', 1), ('approve', 1), ('argue', 1), ('arguing', 1), ('auditor', 2), ('bankruptcy', 1), ('battery', 1), ('book', 1), ('boss', 1), ('brief', 1), ('business', 1), ('call', 1), ('charge', 3), ('chief', 1), ('collapse', 1), ('committee', 1), ('communication', 1), ('company', 2), ('conspiracy', 1), ('consult', 1), ('convict', 1), ('cooper', 3), ('deal', 1), ('defence', 1), ('defend', 1), ('director', 1), ('discovery', 1), ('early', 1), ('earning', 1), ('ebber', 7), ('emerge', 1), ('employee', 1), ('estimate', 1), ('expense', 1), ('face', 2), ('finance', 1), ('firm', 2), ('first', 1), ('follow', 1), ('former', 2), ('fraud', 4), ('giant', 1), ('give', 1), ('giving', 1), ('green', 1), ('guilty', 1), ('hide', 1), ('hit', 1), ('however', 1), ('inflate', 1), ('internal', 1), ('irregular', 1), ('jail', 1), ('jury', 1), ('know', 1), ('last', 1), ('launch', 1), ('lawyer', 3), ('lead', 1), ('light', 1), ('meet', 1), ('meeting', 2), ('mention', 1), ('often', 1), ('orchestrate', 1), ('order', 2), ('pass', 1), ('plead', 1), ('practice', 2), ('problem', 1), ('procedure', 1), ('prosecution', 2), ('protection', 1), ('question', 1), ('revenue', 1), ('run', 1), ('say', 5), ('sentence', 1), ('series', 1), ('shareholder', 1), ('technical', 1), ('telecom', 1), ('tell', 2), ('trick', 1), ('unaware', 1), ('uncomfortable', 1), ('use', 1), ('value', 1), ('verizon', 1), ('warning', 1), ('week', 1), ('whistleblower', 1), ('witness', 2), ('worldcom', 1), ('year', 1)], [('business', 3), ('call', 1), ('firm', 1), ('first', 1), ('hit', 2), ('however', 1), ('last', 2), ('problem', 1), ('say', 5), ('value', 1), ('year', 1), ('activity', 1), ('analyst', 1), ('bank', 1), ('base', 1), ('central', 1), ('close', 1), ('comment', 1), ('competitive', 1), ('confidence', 4), ('confident', 1), ('consumer', 1), ('continue', 2), ('contract', 1), ('cost', 1), ('cutting', 1), ('daimlerchrysler', 1), ('decline', 2), ('delay', 1), ('demand', 2), ('domestic', 2), ('due', 1), ('dz', 1), ('economic', 2), ('economist', 1), ('economy', 5), ('elusive', 1), ('european', 1), ('expect', 1), ('export', 2), ('fall', 2), ('fear', 1), ('figure', 1), ('find', 1), ('focus', 1), ('german', 4), ('go', 1), ('grow', 1), ('growth', 1), ('half', 1), ('high', 1), ('hope', 2), ('ifo', 1), ('improvement', 1), ('include', 1), ('index', 3), ('indication', 1), ('inflation', 1), ('interest', 3), ('keep', 1), ('knock', 1), ('large', 1), ('late', 1), ('less', 1), ('level', 2), ('main', 1), ('mainly', 1), ('make', 1), ('manufacture', 1), ('manufacturing', 1), ('measure', 1), ('mild', 1), ('modest', 1), ('month', 2), ('negotiate', 1), ('observer', 1), ('official', 1), ('outlook', 1), ('overseas', 1), ('particularly', 1), ('pick', 1), ('probably', 1), ('product', 1), ('prompt', 1), ('prove', 1), ('rate', 4), ('reason', 1), ('recently', 1), ('record', 1), ('recovery', 1), ('relatively', 1), ('reluctance', 1), ('remain', 1), ('retail', 2), ('retreat', 1), ('rise', 2), ('sector', 2), ('senior', 1), ('shrink', 1), ('siemen', 1), ('signal', 1), ('slide', 1), ('sluggish', 1), ('speedy', 1), ('spend', 1), ('stick', 1), ('still', 2), ('study', 1), ('surprise', 1), ('take', 1), ('thing', 1), ('threat', 1), ('top', 1), ('trade', 1), ('unemployment', 1), ('union', 1), ('upswing', 1), ('weak', 1), ('worsen', 1)]]\n"
     ]
    }
   ],
   "source": [
    "# human-readable format of corpus (term-frequency)\n",
    "print([[(id2word[id], freq) for id, freq in cp] for cp in corpus[0:2]])"
   ]
  },
  {
   "cell_type": "markdown",
   "metadata": {},
   "source": [
    "## Building Topic Model"
   ]
  },
  {
   "cell_type": "code",
   "execution_count": 46,
   "metadata": {},
   "outputs": [],
   "source": [
    "# Build LDA model\n",
    "lda_model= gensim.models.ldamodel.LdaModel(corpus=corpus,id2word=id2word,num_topics=5,random_state=100,\\\n",
    "                                          update_every=1,chunksize=100,passes=10,alpha='auto',per_word_topics=True)"
   ]
  },
  {
   "cell_type": "code",
   "execution_count": 47,
   "metadata": {},
   "outputs": [
    {
     "data": {
      "text/plain": [
       "[(0,\n",
       "  '0.014*\"game\" + 0.013*\"say\" + 0.010*\"year\" + 0.010*\"play\" + 0.008*\"go\" + 0.008*\"time\" + 0.008*\"win\" + 0.008*\"get\" + 0.007*\"first\" + 0.007*\"make\"'),\n",
       " (1,\n",
       "  '0.018*\"say\" + 0.014*\"use\" + 0.014*\"people\" + 0.008*\"mobile\" + 0.008*\"technology\" + 0.008*\"phone\" + 0.008*\"service\" + 0.007*\"make\" + 0.007*\"user\" + 0.006*\"also\"'),\n",
       " (2,\n",
       "  '0.024*\"film\" + 0.014*\"good\" + 0.013*\"year\" + 0.011*\"say\" + 0.009*\"show\" + 0.008*\"award\" + 0.008*\"also\" + 0.008*\"star\" + 0.008*\"include\" + 0.007*\"top\"'),\n",
       " (3,\n",
       "  '0.023*\"say\" + 0.016*\"year\" + 0.009*\"market\" + 0.008*\"company\" + 0.007*\"rise\" + 0.006*\"firm\" + 0.006*\"sale\" + 0.006*\"price\" + 0.006*\"growth\" + 0.006*\"business\"'),\n",
       " (4,\n",
       "  '0.041*\"say\" + 0.009*\"government\" + 0.009*\"people\" + 0.008*\"election\" + 0.006*\"make\" + 0.006*\"tell\" + 0.006*\"labour\" + 0.006*\"plan\" + 0.006*\"party\" + 0.006*\"also\"')]"
      ]
     },
     "execution_count": 47,
     "metadata": {},
     "output_type": "execute_result"
    }
   ],
   "source": [
    "# print the 10 topics\n",
    "lda_model.print_topics()"
   ]
  },
  {
   "cell_type": "markdown",
   "metadata": {},
   "source": [
    "======================================================================================================\n",
    "\n",
    "<font color=red>**Coherence Score:**</font> a metric used to evaluate the quality of topics generated by a Latent Dirichlet Allocation (LDA) model. \n",
    "- It measures the degree of semantic similarity between the top N words in each topic generated by the model.\n",
    "- The Coherence score is commonly used in the LDA model selection process to identify the optimal number of topics for a given corpus.\n",
    "\n",
    "======================================================================================================"
   ]
  },
  {
   "cell_type": "code",
   "execution_count": 48,
   "metadata": {},
   "outputs": [
    {
     "name": "stdout",
     "output_type": "stream",
     "text": [
      "\n",
      "Coherence Score: 0.46877728727228896\n"
     ]
    }
   ],
   "source": [
    "# coherence score\n",
    "coherence_model_lda=CoherenceModel(model=lda_model,texts=data_lemmatized,dictionary=id2word,coherence='c_v')\n",
    "coherence_lda=coherence_model_lda.get_coherence()\n",
    "print('\\nCoherence Score:',coherence_lda)\n"
   ]
  },
  {
   "cell_type": "markdown",
   "metadata": {},
   "source": [
    "======================================================================================================\n",
    "\n",
    "In Latent Dirichlet Allocation (LDA), the alpha value, aka the <font color=red>**relevance metric**</font>, is a hyperparameter that controls the sparsity of the per-document topic distributions. \n",
    "- Scalar value that determines the prior probability of each topic appearing in a document.\n",
    "\n",
    "- <font color=purple>**High alpha value:**</font> indicates that documents are likely to contain a mixture of many topics\n",
    "- <font color=orange>**Low alpha value:**</font> indicates that documents are likely to contain only a few dominant topics. \n",
    "\n",
    "The alpha value is a key hyperparameter in LDA that can have a significant impact on the resulting topic model.\n",
    "\n",
    "A lower alpha value is appropriate when modeling text corpora with fewer topics or when it is expected that documents in the corpus are likely to contain a small number of dominant topics.\n",
    "\n",
    "\n",
    "======================================================================================================"
   ]
  },
  {
   "cell_type": "code",
   "execution_count": 49,
   "metadata": {},
   "outputs": [
    {
     "data": {
      "text/html": [
       "\n",
       "<link rel=\"stylesheet\" type=\"text/css\" href=\"https://cdn.jsdelivr.net/gh/bmabey/pyLDAvis@3.4.0/pyLDAvis/js/ldavis.v1.0.0.css\">\n",
       "\n",
       "\n",
       "<div id=\"ldavis_el7261059603611044730239144\" style=\"background-color:white;\"></div>\n",
       "<script type=\"text/javascript\">\n",
       "\n",
       "var ldavis_el7261059603611044730239144_data = {\"mdsDat\": {\"x\": [0.08310964914651112, 0.13797473263553614, 0.0925875211551689, -0.10532776826756209, -0.2083441346696542], \"y\": [0.13371169152735835, -0.033216375328308546, -0.13841369079932503, 0.13770375232680793, -0.09978537772653288], \"topics\": [1, 2, 3, 4, 5], \"cluster\": [1, 1, 1, 1, 1], \"Freq\": [26.90471862129083, 20.59390305730054, 19.30798674054245, 19.281952018571346, 13.911439562294833]}, \"tinfo\": {\"Term\": [\"film\", \"game\", \"use\", \"people\", \"good\", \"election\", \"mobile\", \"technology\", \"phone\", \"market\", \"government\", \"award\", \"play\", \"year\", \"win\", \"star\", \"user\", \"firm\", \"music\", \"labour\", \"company\", \"party\", \"player\", \"rise\", \"price\", \"growth\", \"service\", \"software\", \"actor\", \"show\", \"election\", \"labour\", \"party\", \"law\", \"tory\", \"police\", \"virus\", \"hunt\", \"conservative\", \"anti\", \"brown\", \"liberal\", \"debate\", \"suspect\", \"student\", \"parliament\", \"immigration\", \"politic\", \"trust\", \"pledge\", \"politician\", \"terror\", \"dem\", \"commission\", \"education\", \"secretary\", \"asylum\", \"civil\", \"propose\", \"urge\", \"campaign\", \"minister\", \"political\", \"voter\", \"leader\", \"court\", \"government\", \"general\", \"case\", \"issue\", \"evidence\", \"public\", \"arrest\", \"spokesman\", \"claim\", \"rule\", \"say\", \"plan\", \"bill\", \"tell\", \"change\", \"people\", \"right\", \"vote\", \"make\", \"new\", \"want\", \"also\", \"work\", \"get\", \"country\", \"go\", \"take\", \"give\", \"use\", \"oil\", \"profit\", \"debt\", \"bank\", \"investment\", \"finance\", \"shareholder\", \"export\", \"airline\", \"revenue\", \"stock\", \"forecast\", \"financial\", \"investor\", \"earning\", \"economic\", \"euro\", \"takeover\", \"asset\", \"deutsche\", \"exchange\", \"inflation\", \"stake\", \"retail\", \"region\", \"lse\", \"housing\", \"bankruptcy\", \"import\", \"indian\", \"growth\", \"rate\", \"economy\", \"rise\", \"price\", \"deficit\", \"business\", \"market\", \"spending\", \"bid\", \"company\", \"fall\", \"sale\", \"increase\", \"share\", \"low\", \"cost\", \"trade\", \"year\", \"firm\", \"dollar\", \"analyst\", \"say\", \"car\", \"country\", \"expect\", \"month\", \"high\", \"cut\", \"however\", \"last\", \"also\", \"report\", \"deal\", \"big\", \"offer\", \"new\", \"make\", \"mobile\", \"technology\", \"phone\", \"user\", \"software\", \"computer\", \"site\", \"digital\", \"pc\", \"web\", \"online\", \"device\", \"gadget\", \"content\", \"program\", \"download\", \"blog\", \"machine\", \"broadband\", \"image\", \"camera\", \"spam\", \"portable\", \"definition\", \"apple\", \"gaming\", \"tool\", \"ipod\", \"wireless\", \"handset\", \"search\", \"internet\", \"network\", \"mail\", \"net\", \"website\", \"use\", \"video\", \"service\", \"file\", \"people\", \"message\", \"tv\", \"say\", \"music\", \"system\", \"make\", \"firm\", \"also\", \"new\", \"find\", \"get\", \"many\", \"work\", \"year\", \"match\", \"goal\", \"injury\", \"coach\", \"ball\", \"champion\", \"seed\", \"crowd\", \"championship\", \"defeat\", \"premiership\", \"chelsea\", \"referee\", \"grand\", \"rugby\", \"athlete\", \"olympic\", \"league\", \"cup\", \"lion\", \"liverpool\", \"injure\", \"shot\", \"tournament\", \"arsenal\", \"dope\", \"squad\", \"striker\", \"mourinho\", \"medal\", \"season\", \"football\", \"club\", \"team\", \"victory\", \"kick\", \"side\", \"race\", \"game\", \"final\", \"minute\", \"sport\", \"miss\", \"win\", \"round\", \"play\", \"chance\", \"player\", \"score\", \"wale\", \"half\", \"second\", \"time\", \"title\", \"first\", \"back\", \"go\", \"get\", \"start\", \"year\", \"last\", \"take\", \"well\", \"say\", \"make\", \"good\", \"come\", \"think\", \"want\", \"also\", \"world\", \"film\", \"award\", \"actor\", \"band\", \"chart\", \"festival\", \"oscar\", \"singer\", \"nomination\", \"actress\", \"comedy\", \"album\", \"nominate\", \"aviator\", \"musical\", \"drama\", \"dance\", \"ceremony\", \"prize\", \"baby\", \"hip\", \"dead\", \"sequel\", \"theatre\", \"drake\", \"musician\", \"hop\", \"hollywood\", \"globe\", \"vera\", \"star\", \"song\", \"die\", \"original\", \"rock\", \"category\", \"single\", \"good\", \"director\", \"top\", \"include\", \"movie\", \"release\", \"show\", \"name\", \"music\", \"year\", \"number\", \"also\", \"role\", \"record\", \"say\", \"go\", \"take\", \"first\", \"make\", \"play\", \"well\", \"day\", \"new\"], \"Freq\": [815.0, 815.0, 960.0, 1310.0, 957.0, 505.0, 397.0, 393.0, 383.0, 560.0, 711.0, 292.0, 712.0, 2083.0, 541.0, 284.0, 313.0, 543.0, 436.0, 378.0, 570.0, 368.0, 464.0, 410.0, 340.0, 304.0, 531.0, 246.0, 203.0, 726.0, 504.77480127359564, 378.1876202302939, 367.55438702123666, 289.05535378652604, 232.94772279886897, 173.84500838874845, 168.28725562973813, 150.67704342742226, 146.81741037068468, 131.98975743337527, 100.44465933017376, 93.74128159131999, 81.62517631580093, 80.0814128440971, 82.77798911209543, 76.87109726013162, 73.47932993083772, 74.05840177868076, 73.95782650844691, 73.14818745905232, 72.5998862743157, 71.75411471380548, 71.08803082741719, 71.16683374512867, 69.86443080538459, 67.46544097047605, 64.02260455346936, 61.83553924655068, 58.28719899194813, 57.044229003838886, 243.72364460963803, 212.61536303321492, 145.7030744432934, 85.93931303430841, 193.8966022950098, 189.43837654984145, 567.1248148657828, 171.23659699530316, 213.33159141736348, 255.3360301841567, 145.9816429508324, 257.0676362907353, 98.5292339090159, 176.46185328050555, 340.8064561866387, 214.9510087849321, 2732.57378124373, 377.7546181206418, 164.72298070561897, 392.5979774814126, 237.74197316025828, 564.9993875995071, 238.79999807782096, 171.10026833452, 404.28900349340006, 325.92128524341206, 268.3056054888284, 365.96533024759043, 265.70839749497526, 283.56215984395016, 219.57692961487993, 262.553154976132, 249.86853906854572, 219.38630160441593, 213.2267220264296, 154.74041533052238, 148.34246779830195, 141.69931275230397, 120.61820616145148, 121.2025254093345, 106.2618404225529, 102.61053211177787, 102.68067600592292, 101.58731012874718, 103.40377877418713, 92.60848303847425, 86.30407846539102, 147.24262290895174, 74.95836281057646, 71.96351346185034, 248.73126727643105, 69.07840460269763, 61.729854509095155, 60.14038226003188, 58.26230969810284, 59.830112198037725, 56.49001559727855, 55.76362594441028, 56.10988591224025, 58.04419085131443, 54.09095109750474, 53.32109165545844, 50.740253553608156, 49.434919153358095, 50.66018978250491, 288.4728409662675, 254.29577931935367, 257.73214314396694, 367.25528377150056, 304.16481893881837, 98.63345504169548, 284.13401115335654, 442.2183311329271, 106.8916193573202, 159.54158839977538, 415.32960148474353, 236.41733017429377, 308.76790242926666, 283.059371634952, 256.98588412560923, 211.9809125564698, 223.40503373429905, 136.39030120593705, 804.5387633499803, 312.2817301288729, 155.40878406723573, 162.23326854171506, 1163.5194365382067, 135.30882733648195, 240.91736539066878, 223.8710251364359, 248.7710415412975, 243.91474356772991, 169.3627522181928, 176.25120953500198, 243.29650130180715, 277.3812932872232, 199.50112695622056, 174.33747279454025, 185.44678741739028, 174.93530676434483, 191.97933731588296, 178.42957898113556, 397.1543523753937, 392.45132708510056, 382.515166717458, 312.7411872760833, 245.7388460342357, 222.40362109421417, 221.03328240846008, 205.91142765833797, 185.14093196961937, 172.42755867660125, 169.62379362074026, 162.95380071852867, 157.59002604978227, 155.1077405528598, 153.03430900327365, 139.03871545001448, 128.97794552311777, 122.53921490336481, 120.84850716182927, 112.10458298361085, 98.2521221822657, 93.47190581752498, 82.0547451245269, 82.25822261799578, 78.93901752178344, 70.12608667738506, 69.62628252148517, 67.16674012921938, 66.55109383649034, 66.00775240431774, 210.6798393745191, 201.93573751579555, 212.0750311209283, 226.51832402195788, 272.26441328412386, 191.2656678217124, 671.5871785441274, 233.3610223751561, 358.93971773450033, 173.90437240505463, 653.3139823550148, 165.26714537016696, 192.70408035099456, 870.937598080088, 229.68285823845432, 196.59084140071926, 328.0541818295993, 230.21912021300062, 279.9845201817185, 246.02826536702977, 206.0698298286616, 243.66540337961797, 206.33168647309736, 205.26407094795897, 192.34356660608523, 235.866384612737, 170.71137548930025, 157.33101023274136, 138.44189173356858, 110.64836633233647, 93.38990772877573, 75.70871830800486, 76.81972028261286, 73.34755077046417, 71.86381195849766, 68.20378795994564, 68.03333377398312, 66.45587288488134, 63.38335577998906, 61.96645674543284, 61.087813658546814, 60.11786612709153, 58.06454749964409, 57.23871526725081, 57.72001822389884, 56.708915488532895, 51.91995134713641, 49.678922404035006, 45.537340377509175, 44.25498869478404, 44.21637311407347, 41.97804460000796, 41.161198086819375, 40.86268977777535, 40.076925923643785, 209.80390630889522, 107.34035739843827, 256.0020699511375, 247.5184863763738, 117.90201815433593, 70.84891642341805, 240.92174302875975, 118.50827833546884, 644.312874877794, 217.10276120584479, 191.4971932768667, 120.73014920399314, 124.41842512438899, 398.85316898225653, 94.829097779193, 474.9320290541316, 181.05265461972965, 306.32932821500043, 104.39812074569919, 121.56845775123404, 178.25015269328384, 237.20943495345298, 401.84065307017624, 132.73600162630478, 336.13647538234926, 229.86322551037068, 403.3641608288481, 383.38174008706454, 216.28806339132439, 475.8001587663727, 293.3094009218747, 302.2516027403791, 261.5139394999489, 638.4971599296982, 322.34891647933716, 264.85468628400724, 224.3772623362118, 197.4387360189723, 200.89974338810399, 206.45803591820612, 185.55840086905647, 814.2294924947939, 291.67666686139466, 203.1496001991139, 167.2390028644072, 132.26286514555156, 128.84100189140815, 125.38517356260694, 106.38437468903707, 103.51727432097154, 100.5828758980304, 94.10907665988024, 89.2157375553017, 79.83936864968481, 76.66805482966043, 75.28852871726245, 74.81590610360797, 75.20307594992545, 70.14616840689462, 62.82682283725974, 61.91626279219854, 57.75207662898754, 57.576954464314774, 47.59262672471365, 45.84979833200627, 41.338684334961094, 42.98406216776387, 40.37417622962182, 39.43144737827986, 39.737693133881365, 37.42359938949383, 273.015318704517, 133.84005279018675, 94.2142203692038, 83.74367198429191, 68.05571207575176, 64.46035490020836, 123.30873532588116, 493.66297325497226, 176.2158480779418, 226.12074427448186, 268.61104467022943, 116.49854182769825, 173.77204295362134, 326.27210770104665, 151.41676689393356, 206.51159050775328, 441.7847582285828, 192.41942102325459, 285.2067081970574, 118.68118793274158, 147.04729805982538, 385.9712352352425, 203.31663315519327, 189.37134961664705, 173.00680862140115, 206.6482189211472, 156.74861951599075, 157.42001582804912, 138.18349373551712, 134.01759931707892], \"Total\": [815.0, 815.0, 960.0, 1310.0, 957.0, 505.0, 397.0, 393.0, 383.0, 560.0, 711.0, 292.0, 712.0, 2083.0, 541.0, 284.0, 313.0, 543.0, 436.0, 378.0, 570.0, 368.0, 464.0, 410.0, 340.0, 304.0, 531.0, 246.0, 203.0, 726.0, 505.5466329486592, 378.96028266760584, 368.32706038588884, 289.830198089127, 233.71567254038848, 174.61946845823206, 169.0966764365707, 151.44699675832678, 147.58789583760387, 132.76871026280645, 101.23273818355915, 94.51070004507217, 82.39576432631, 80.85414841084354, 83.58836455633495, 77.64131971920762, 74.24691012859229, 74.83319877340249, 74.73775713773502, 73.9279214399759, 73.37721136071163, 72.52649980586199, 71.85581035289646, 71.95375190704921, 70.64337883041127, 68.23517457274141, 64.789698085602, 62.61517420526959, 59.07330217653237, 57.8282081764655, 248.78340857173185, 221.75727902411538, 152.19089278098858, 88.21188770359352, 208.81950702297735, 209.69807963950214, 711.3355273533716, 189.53740254947041, 244.60389736341398, 299.79231286462414, 160.4342465712226, 304.0221278271179, 103.2419918745051, 202.72671339754987, 449.85864065944713, 261.69759218159885, 5791.499211026966, 525.8060767711097, 197.03272609859147, 672.7107880033778, 344.3053247567492, 1310.0177532194898, 414.3424339703274, 224.64990268078083, 1439.7698997046193, 986.6433820095044, 638.1497088557419, 1414.9958878317957, 668.893046381996, 1048.3539095764331, 495.9875543168151, 1105.7387754603847, 1017.3000981859221, 573.7275372795121, 960.7582904255527, 155.49973203758998, 149.105131114761, 142.46118687337477, 121.38577787701654, 121.98196837097103, 107.0330651837462, 103.37020219310975, 103.4523155308071, 102.35285556135261, 104.18964410371161, 93.37087875524573, 87.07195690286443, 148.5736809947962, 75.71936261919046, 72.7281906410921, 251.48723808475103, 69.85156021836303, 62.49244332122917, 60.919841168919234, 59.02344163655753, 60.61196549182866, 57.250463324534635, 56.524536596298454, 56.87945648601671, 58.8472828698584, 54.850238244944585, 54.08217996201, 51.50090085802071, 50.20052782865932, 51.47450353714005, 304.78492071981896, 274.7703292314276, 280.3598481981427, 410.8542907295186, 340.6398904139042, 105.0847416807019, 338.8794108575891, 560.1555689851963, 115.92468313420845, 186.61674013775487, 570.5921574718067, 296.46514606253925, 405.7313458380516, 370.74401911156883, 330.90121111182106, 277.3600890471782, 303.9894083137732, 165.61257648899527, 2083.4304977619527, 543.0961736510731, 201.79099065491806, 215.62638336663503, 5791.499211026966, 167.2961235879235, 495.9875543168151, 437.33969355328446, 545.3704858360601, 539.4137710236221, 267.95016829981466, 301.58337639494755, 812.8909798811497, 1414.9958878317957, 463.90924079029077, 313.2935446505468, 498.67347370293567, 397.0663376888117, 986.6433820095044, 1439.7698997046193, 397.9127428637788, 393.21333032449644, 383.2826237116586, 313.4979300731959, 246.49624123708057, 223.16675354195496, 221.7972930627667, 206.67298447417224, 185.9059966181522, 173.18919996913817, 170.3975475587155, 163.71224539954903, 158.34776903691608, 155.87940408128566, 153.86964208029397, 139.79823002934452, 129.73779484096545, 123.30219959462939, 121.604970596909, 112.88513588710698, 99.01554592683394, 94.23019532616954, 82.81104924075795, 83.02890447593495, 79.6961993984844, 70.88834769469754, 70.38965404907535, 67.92452700943862, 67.3072580575219, 66.76385662785133, 222.51689354693593, 217.9896813004474, 233.21130351557701, 256.0081621864132, 317.6385701134939, 222.4550414893471, 960.7582904255527, 289.3233393199592, 531.554636913991, 211.02694789885064, 1310.0177532194898, 202.55445481746264, 293.68436887944006, 5791.499211026966, 436.7743139627337, 307.1270362148391, 1439.7698997046193, 543.0961736510731, 1414.9958878317957, 986.6433820095044, 462.2793696269029, 1048.3539095764331, 550.229952283463, 668.893046381996, 2083.4304977619527, 236.62458397025725, 171.50094382636482, 158.08344035137443, 139.19149155247032, 111.40287723348746, 94.13953418520981, 76.45820181598513, 77.59645904751451, 74.09644086657048, 72.61458486878914, 68.95532673322691, 68.78329345745117, 67.20474292183157, 64.13497649251589, 62.71615225247302, 61.846967367169086, 60.87228376988947, 58.824079439921206, 57.98874777713152, 58.48093944703835, 57.45895192520567, 52.68490253008862, 50.47974747064596, 46.28594475128719, 45.00352094414076, 44.96715385515844, 42.729127552478836, 41.91002241100027, 41.611207960946004, 40.8281968313594, 214.77605056697786, 110.91182202448415, 273.675014122448, 267.61665506904524, 124.65067934736908, 73.89569783872477, 275.03750166964375, 128.3310981658095, 815.3235419223622, 249.9615403858355, 218.38770206039683, 133.2696057258763, 139.4060784236736, 541.7180652995905, 103.5132032181658, 712.7087594061493, 237.68031238573377, 464.0239088284052, 120.20748976465951, 149.15563808151757, 266.88319725707476, 408.6088680945677, 959.842914539548, 180.05788188559532, 771.1588165831206, 436.20540764799273, 1105.7387754603847, 1048.3539095764331, 426.2899603718255, 2083.4304977619527, 812.8909798811497, 1017.3000981859221, 747.7151110590121, 5791.499211026966, 1439.7698997046193, 957.5285900376732, 750.3013096214901, 523.6510122436482, 638.1497088557419, 1414.9958878317957, 565.8355676503461, 815.0101025537484, 292.46070740034054, 203.9232131710238, 168.0244308089677, 133.03781638195414, 129.61527596429772, 126.15819861020887, 107.16145226206514, 104.29009082116046, 101.35539581609949, 94.88815454335166, 89.99115073320708, 80.62530662460041, 77.44029701470217, 76.06269530294303, 75.59455483049962, 75.99081880884303, 70.9327285736003, 63.604790224187184, 62.70497048953911, 58.54031547035686, 58.42388874430474, 48.37168744187828, 46.62613273594745, 42.111497909502894, 43.79558180658729, 41.15442902562787, 40.20960019968215, 40.52477131036262, 38.196378137621195, 284.9685833119343, 141.35782033831168, 101.02547569042538, 93.07109918369737, 74.2775654496968, 71.16029737961428, 159.69615614929182, 957.5285900376732, 269.1098537966796, 397.53902260080616, 518.3987149016157, 157.99055825327324, 283.75660543592016, 726.2032002449539, 242.56376614336148, 436.7743139627337, 2083.4304977619527, 560.9867279028292, 1414.9958878317957, 222.00525519058698, 392.67929915353443, 5791.499211026966, 1105.7387754603847, 1017.3000981859221, 771.1588165831206, 1439.7698997046193, 712.7087594061493, 747.7151110590121, 440.0235923408741, 986.6433820095044], \"Category\": [\"Default\", \"Default\", \"Default\", \"Default\", \"Default\", \"Default\", \"Default\", \"Default\", \"Default\", \"Default\", \"Default\", \"Default\", \"Default\", \"Default\", \"Default\", \"Default\", \"Default\", \"Default\", \"Default\", \"Default\", \"Default\", \"Default\", \"Default\", \"Default\", \"Default\", \"Default\", \"Default\", \"Default\", \"Default\", \"Default\", \"Topic1\", \"Topic1\", \"Topic1\", \"Topic1\", \"Topic1\", \"Topic1\", \"Topic1\", \"Topic1\", \"Topic1\", \"Topic1\", \"Topic1\", \"Topic1\", \"Topic1\", \"Topic1\", \"Topic1\", \"Topic1\", \"Topic1\", \"Topic1\", \"Topic1\", \"Topic1\", \"Topic1\", \"Topic1\", \"Topic1\", \"Topic1\", \"Topic1\", \"Topic1\", \"Topic1\", \"Topic1\", \"Topic1\", \"Topic1\", \"Topic1\", \"Topic1\", \"Topic1\", \"Topic1\", \"Topic1\", \"Topic1\", \"Topic1\", \"Topic1\", \"Topic1\", \"Topic1\", \"Topic1\", \"Topic1\", \"Topic1\", \"Topic1\", \"Topic1\", \"Topic1\", \"Topic1\", \"Topic1\", \"Topic1\", \"Topic1\", \"Topic1\", \"Topic1\", \"Topic1\", \"Topic1\", \"Topic1\", \"Topic1\", \"Topic1\", \"Topic1\", \"Topic1\", \"Topic1\", \"Topic1\", \"Topic1\", \"Topic1\", \"Topic1\", \"Topic1\", \"Topic2\", \"Topic2\", \"Topic2\", \"Topic2\", \"Topic2\", \"Topic2\", \"Topic2\", \"Topic2\", \"Topic2\", \"Topic2\", \"Topic2\", \"Topic2\", \"Topic2\", \"Topic2\", \"Topic2\", \"Topic2\", \"Topic2\", \"Topic2\", \"Topic2\", \"Topic2\", \"Topic2\", \"Topic2\", \"Topic2\", \"Topic2\", \"Topic2\", \"Topic2\", \"Topic2\", \"Topic2\", \"Topic2\", \"Topic2\", \"Topic2\", \"Topic2\", \"Topic2\", \"Topic2\", \"Topic2\", \"Topic2\", \"Topic2\", \"Topic2\", \"Topic2\", \"Topic2\", \"Topic2\", \"Topic2\", \"Topic2\", \"Topic2\", \"Topic2\", \"Topic2\", \"Topic2\", \"Topic2\", \"Topic2\", \"Topic2\", \"Topic2\", \"Topic2\", \"Topic2\", \"Topic2\", \"Topic2\", \"Topic2\", \"Topic2\", \"Topic2\", \"Topic2\", \"Topic2\", \"Topic2\", \"Topic2\", \"Topic2\", \"Topic2\", \"Topic2\", \"Topic2\", \"Topic2\", \"Topic2\", \"Topic3\", \"Topic3\", \"Topic3\", \"Topic3\", \"Topic3\", \"Topic3\", \"Topic3\", \"Topic3\", \"Topic3\", \"Topic3\", \"Topic3\", \"Topic3\", \"Topic3\", \"Topic3\", \"Topic3\", \"Topic3\", \"Topic3\", \"Topic3\", \"Topic3\", \"Topic3\", \"Topic3\", \"Topic3\", \"Topic3\", \"Topic3\", \"Topic3\", \"Topic3\", \"Topic3\", \"Topic3\", \"Topic3\", \"Topic3\", \"Topic3\", \"Topic3\", \"Topic3\", \"Topic3\", \"Topic3\", \"Topic3\", \"Topic3\", \"Topic3\", \"Topic3\", \"Topic3\", \"Topic3\", \"Topic3\", \"Topic3\", \"Topic3\", \"Topic3\", \"Topic3\", \"Topic3\", \"Topic3\", \"Topic3\", \"Topic3\", \"Topic3\", \"Topic3\", \"Topic3\", \"Topic3\", \"Topic3\", \"Topic4\", \"Topic4\", \"Topic4\", \"Topic4\", \"Topic4\", \"Topic4\", \"Topic4\", \"Topic4\", \"Topic4\", \"Topic4\", \"Topic4\", \"Topic4\", \"Topic4\", \"Topic4\", \"Topic4\", \"Topic4\", \"Topic4\", \"Topic4\", \"Topic4\", \"Topic4\", \"Topic4\", \"Topic4\", \"Topic4\", \"Topic4\", \"Topic4\", \"Topic4\", \"Topic4\", \"Topic4\", \"Topic4\", \"Topic4\", \"Topic4\", \"Topic4\", \"Topic4\", \"Topic4\", \"Topic4\", \"Topic4\", \"Topic4\", \"Topic4\", \"Topic4\", \"Topic4\", \"Topic4\", \"Topic4\", \"Topic4\", \"Topic4\", \"Topic4\", \"Topic4\", \"Topic4\", \"Topic4\", \"Topic4\", \"Topic4\", \"Topic4\", \"Topic4\", \"Topic4\", \"Topic4\", \"Topic4\", \"Topic4\", \"Topic4\", \"Topic4\", \"Topic4\", \"Topic4\", \"Topic4\", \"Topic4\", \"Topic4\", \"Topic4\", \"Topic4\", \"Topic4\", \"Topic4\", \"Topic4\", \"Topic4\", \"Topic4\", \"Topic4\", \"Topic5\", \"Topic5\", \"Topic5\", \"Topic5\", \"Topic5\", \"Topic5\", \"Topic5\", \"Topic5\", \"Topic5\", \"Topic5\", \"Topic5\", \"Topic5\", \"Topic5\", \"Topic5\", \"Topic5\", \"Topic5\", \"Topic5\", \"Topic5\", \"Topic5\", \"Topic5\", \"Topic5\", \"Topic5\", \"Topic5\", \"Topic5\", \"Topic5\", \"Topic5\", \"Topic5\", \"Topic5\", \"Topic5\", \"Topic5\", \"Topic5\", \"Topic5\", \"Topic5\", \"Topic5\", \"Topic5\", \"Topic5\", \"Topic5\", \"Topic5\", \"Topic5\", \"Topic5\", \"Topic5\", \"Topic5\", \"Topic5\", \"Topic5\", \"Topic5\", \"Topic5\", \"Topic5\", \"Topic5\", \"Topic5\", \"Topic5\", \"Topic5\", \"Topic5\", \"Topic5\", \"Topic5\", \"Topic5\", \"Topic5\", \"Topic5\", \"Topic5\", \"Topic5\", \"Topic5\"], \"logprob\": [30.0, 29.0, 28.0, 27.0, 26.0, 25.0, 24.0, 23.0, 22.0, 21.0, 20.0, 19.0, 18.0, 17.0, 16.0, 15.0, 14.0, 13.0, 12.0, 11.0, 10.0, 9.0, 8.0, 7.0, 6.0, 5.0, 4.0, 3.0, 2.0, 1.0, -4.8803, -5.169, -5.1975, -5.4378, -5.6536, -5.9462, -5.9787, -6.0892, -6.1152, -6.2217, -6.4948, -6.5638, -6.7022, -6.7213, -6.6882, -6.7623, -6.8074, -6.7995, -6.8009, -6.8119, -6.8194, -6.8311, -6.8405, -6.8394, -6.8578, -6.8928, -6.9451, -6.9799, -7.039, -7.0606, -5.6083, -5.7449, -6.1228, -6.6507, -5.8371, -5.8603, -4.7638, -5.9613, -5.7415, -5.5618, -6.1209, -5.555, -6.514, -5.9313, -5.2731, -5.734, -3.1914, -5.1701, -6.0001, -5.1316, -5.6332, -4.7676, -5.6288, -5.9621, -5.1023, -5.3177, -5.5123, -5.2018, -5.522, -5.4569, -5.7127, -5.5339, -5.5834, -5.7135, -5.742, -5.7953, -5.8376, -5.8834, -6.0444, -6.0396, -6.1712, -6.2061, -6.2054, -6.2162, -6.1984, -6.3087, -6.3792, -5.845, -6.5201, -6.5609, -5.3207, -6.6018, -6.7143, -6.7404, -6.7721, -6.7456, -6.803, -6.816, -6.8098, -6.7759, -6.8464, -6.8607, -6.9104, -6.9364, -6.9119, -5.1725, -5.2986, -5.2852, -4.931, -5.1195, -6.2457, -5.1876, -4.7453, -6.1653, -5.7648, -4.808, -5.3715, -5.1045, -5.1914, -5.2881, -5.4806, -5.4281, -5.9216, -4.1468, -5.0932, -5.791, -5.748, -3.7779, -5.9295, -5.3526, -5.426, -5.3205, -5.3403, -5.705, -5.6652, -5.3428, -5.2117, -5.5413, -5.6761, -5.6143, -5.6727, -5.5797, -5.6529, -4.7883, -4.8002, -4.8258, -5.0272, -5.2683, -5.3681, -5.3743, -5.4452, -5.5515, -5.6226, -5.639, -5.6791, -5.7126, -5.7285, -5.7419, -5.8378, -5.913, -5.9642, -5.9781, -6.0532, -6.1851, -6.2349, -6.3652, -6.3627, -6.4039, -6.5223, -6.5295, -6.5654, -6.5746, -6.5828, -5.4223, -5.4646, -5.4157, -5.3498, -5.1658, -5.5189, -4.263, -5.32, -4.8894, -5.6141, -4.2905, -5.665, -5.5114, -4.003, -5.3359, -5.4915, -4.9794, -5.3336, -5.1379, -5.2672, -5.4444, -5.2768, -5.4431, -5.4483, -5.5133, -5.308, -5.6313, -5.7129, -5.8408, -6.0649, -6.2345, -6.4444, -6.4298, -6.476, -6.4965, -6.5487, -6.5513, -6.5747, -6.622, -6.6447, -6.6589, -6.6749, -6.7097, -6.724, -6.7156, -6.7333, -6.8215, -6.8657, -6.9527, -6.9813, -6.9822, -7.0341, -7.0538, -7.061, -7.0804, -5.4251, -6.0952, -5.2261, -5.2598, -6.0014, -6.5107, -5.2868, -5.9963, -4.3031, -5.3909, -5.5164, -5.9777, -5.9476, -4.7827, -6.2192, -4.6081, -5.5725, -5.0466, -6.123, -5.9708, -5.5881, -5.3023, -4.7752, -5.8829, -4.9537, -5.3338, -4.7714, -4.8222, -5.3946, -4.6063, -5.09, -5.06, -5.2048, -4.3121, -4.9956, -5.1921, -5.3579, -5.4858, -5.4684, -5.4412, -5.5479, -3.7425, -4.7691, -5.1308, -5.3254, -5.56, -5.5862, -5.6134, -5.7777, -5.8051, -5.8338, -5.9003, -5.9537, -6.0648, -6.1053, -6.1235, -6.1298, -6.1246, -6.1942, -6.3044, -6.319, -6.3886, -6.3917, -6.5821, -6.6194, -6.723, -6.684, -6.7466, -6.7702, -6.7625, -6.8225, -4.8353, -5.5481, -5.8992, -6.017, -6.2245, -6.2787, -5.6301, -4.2429, -5.2731, -5.0237, -4.8515, -5.6869, -5.287, -4.6571, -5.4248, -5.1144, -4.354, -5.1851, -4.7916, -5.6683, -5.454, -4.489, -5.13, -5.2011, -5.2915, -5.1138, -5.3901, -5.3859, -5.5162, -5.5468], \"loglift\": [30.0, 29.0, 28.0, 27.0, 26.0, 25.0, 24.0, 23.0, 22.0, 21.0, 20.0, 19.0, 18.0, 17.0, 16.0, 15.0, 14.0, 13.0, 12.0, 11.0, 10.0, 9.0, 8.0, 7.0, 6.0, 5.0, 4.0, 3.0, 2.0, 1.0, 1.3113, 1.3108, 1.3108, 1.3102, 1.3096, 1.3084, 1.3081, 1.3078, 1.3076, 1.307, 1.3051, 1.3047, 1.3035, 1.3033, 1.3031, 1.3029, 1.3025, 1.3025, 1.3024, 1.3023, 1.3022, 1.3022, 1.3021, 1.3019, 1.3018, 1.3015, 1.301, 1.3003, 1.2995, 1.2992, 1.2923, 1.2708, 1.2693, 1.2868, 1.2387, 1.2113, 1.0863, 1.2113, 1.1761, 1.1524, 1.2185, 1.1451, 1.2661, 1.1741, 1.0352, 1.1161, 0.5617, 0.9822, 1.1338, 0.7743, 0.9425, 0.4719, 0.7618, 1.0406, 0.0428, 0.2052, 0.4464, -0.0395, 0.3896, 0.0053, 0.498, -0.1249, -0.0911, 0.3515, -0.1925, 1.5753, 1.575, 1.5748, 1.5738, 1.5738, 1.5729, 1.5728, 1.5727, 1.5727, 1.5726, 1.572, 1.5713, 1.5712, 1.5701, 1.5696, 1.5692, 1.569, 1.5679, 1.5673, 1.5672, 1.5672, 1.5668, 1.5666, 1.5666, 1.5664, 1.5662, 1.566, 1.5653, 1.5648, 1.5642, 1.5252, 1.5027, 1.496, 1.468, 1.4669, 1.5168, 1.404, 1.3438, 1.499, 1.4234, 1.2626, 1.3538, 1.3071, 1.3103, 1.3274, 1.3114, 1.2722, 1.386, 0.6287, 1.0268, 1.319, 1.2957, -0.0248, 1.368, 0.8581, 0.9105, 0.7952, 0.7865, 1.1214, 1.043, 0.3739, -0.0493, 0.7363, 0.994, 0.591, 0.7605, -0.0567, -0.5079, 1.6427, 1.6427, 1.6426, 1.6422, 1.6416, 1.6412, 1.6412, 1.641, 1.6405, 1.6402, 1.6401, 1.64, 1.6399, 1.6397, 1.6392, 1.6392, 1.6388, 1.6384, 1.6384, 1.6377, 1.6369, 1.6366, 1.6355, 1.6353, 1.6351, 1.6338, 1.6337, 1.6334, 1.6334, 1.6333, 1.59, 1.5682, 1.5496, 1.5223, 1.4905, 1.4936, 1.2866, 1.4297, 1.252, 1.4512, 0.9489, 1.4412, 1.2233, -0.2499, 1.0019, 1.1985, 0.1656, 0.7864, 0.0245, 0.2558, 0.8367, 0.1855, 0.6638, 0.4633, -0.7378, 1.6428, 1.6414, 1.6412, 1.6406, 1.6392, 1.638, 1.6361, 1.6359, 1.6358, 1.6356, 1.635, 1.635, 1.6348, 1.6342, 1.634, 1.6336, 1.6335, 1.633, 1.633, 1.6329, 1.6329, 1.6314, 1.63, 1.6297, 1.6292, 1.6292, 1.6283, 1.628, 1.6278, 1.6274, 1.6226, 1.6133, 1.5792, 1.5679, 1.5903, 1.6039, 1.5136, 1.5664, 1.4106, 1.5051, 1.5146, 1.5472, 1.5323, 1.3398, 1.5584, 1.2401, 1.3739, 1.2307, 1.505, 1.4415, 1.2424, 1.1022, 0.7753, 1.3411, 0.8156, 1.0054, 0.6376, 0.6401, 0.9675, 0.1692, 0.6266, 0.4324, 0.5955, -0.559, 0.1494, 0.3608, 0.4389, 0.6706, 0.4902, -0.2788, 0.5311, 1.9715, 1.9698, 1.9687, 1.9678, 1.9666, 1.9665, 1.9663, 1.9652, 1.965, 1.9648, 1.9642, 1.9638, 1.9627, 1.9624, 1.9622, 1.9621, 1.962, 1.9613, 1.9602, 1.9598, 1.9589, 1.9579, 1.9562, 1.9557, 1.9539, 1.9538, 1.9533, 1.9529, 1.9528, 1.952, 1.9296, 1.9178, 1.9027, 1.8669, 1.885, 1.8736, 1.7139, 1.31, 1.549, 1.4082, 1.315, 1.6678, 1.4821, 1.1724, 1.5012, 1.2234, 0.4215, 0.9024, 0.3708, 1.3462, 0.9902, -0.7359, 0.279, 0.2913, 0.4779, 0.0312, 0.458, 0.4144, 0.8142, -0.0239]}, \"token.table\": {\"Topic\": [5, 5, 2, 5, 1, 2, 3, 4, 5, 2, 3, 1, 3, 1, 5, 4, 2, 1, 4, 5, 5, 5, 1, 2, 3, 4, 5, 4, 5, 2, 2, 1, 2, 4, 5, 1, 2, 3, 4, 5, 1, 2, 3, 5, 3, 3, 1, 1, 2, 3, 3, 1, 4, 2, 3, 5, 1, 2, 3, 1, 5, 5, 4, 4, 1, 4, 5, 1, 2, 3, 4, 5, 4, 1, 1, 2, 4, 2, 4, 4, 1, 2, 3, 4, 5, 5, 1, 2, 3, 5, 3, 1, 3, 1, 2, 3, 1, 2, 4, 5, 1, 4, 4, 4, 1, 2, 4, 5, 5, 1, 2, 3, 4, 5, 5, 1, 2, 3, 4, 5, 1, 2, 4, 2, 4, 3, 1, 2, 3, 4, 5, 3, 1, 2, 3, 4, 5, 2, 5, 4, 3, 5, 5, 2, 1, 2, 1, 2, 1, 1, 2, 1, 2, 3, 2, 1, 2, 3, 4, 5, 2, 1, 2, 4, 5, 5, 2, 3, 5, 1, 2, 4, 5, 2, 2, 3, 1, 2, 3, 4, 5, 2, 3, 1, 2, 3, 4, 5, 1, 4, 2, 3, 3, 4, 3, 1, 2, 3, 1, 2, 3, 4, 5, 1, 2, 3, 4, 5, 5, 1, 2, 3, 4, 5, 4, 1, 2, 3, 4, 5, 1, 2, 4, 2, 3, 2, 3, 4, 5, 3, 1, 2, 3, 4, 5, 5, 5, 5, 2, 1, 2, 3, 4, 5, 1, 3, 1, 2, 1, 2, 3, 4, 5, 1, 2, 3, 2, 2, 4, 4, 1, 2, 3, 2, 2, 3, 1, 2, 3, 1, 4, 1, 1, 2, 3, 4, 5, 1, 1, 2, 4, 4, 1, 4, 4, 1, 2, 3, 4, 5, 2, 3, 1, 3, 1, 2, 3, 4, 5, 1, 2, 3, 4, 5, 2, 3, 4, 4, 1, 3, 1, 2, 1, 3, 4, 5, 1, 4, 5, 3, 1, 2, 3, 4, 5, 4, 3, 5, 3, 5, 5, 5, 1, 2, 3, 4, 5, 2, 3, 4, 2, 3, 5, 1, 2, 3, 4, 5, 5, 5, 1, 2, 3, 4, 5, 1, 2, 3, 4, 2, 4, 3, 1, 5, 5, 1, 1, 3, 1, 2, 3, 4, 5, 3, 1, 2, 3, 4, 5, 1, 3, 4, 5, 3, 4, 1, 1, 1, 1, 2, 1, 3, 4, 2, 3, 5, 2, 3, 1, 1, 2, 5, 1, 4, 5, 2, 3, 1, 2, 3, 4, 5, 4, 2, 1, 2, 3, 5, 1, 2, 3, 4, 5, 2, 2, 1, 3, 4, 5, 1, 2, 3, 5, 4, 5, 1, 4, 5, 3, 4, 4, 1, 2, 3, 4, 2, 3, 5, 1, 2, 3, 4, 5, 4, 5, 3, 4, 4, 5, 1, 2, 3, 4, 5, 1, 4, 5, 1, 2, 3, 4, 2, 3, 4, 5, 2, 4, 1, 2, 3, 4, 5, 1, 4, 5, 5, 2, 3, 4, 5, 3, 3, 3, 5, 3, 1, 2, 1, 2, 3, 5, 3, 4, 4, 2, 4, 5, 1, 2, 3, 4, 2, 4, 1, 1, 1, 3, 5, 1, 2, 3, 4, 5, 2, 1, 4, 3, 1, 2, 3, 4, 5, 1, 5, 1, 2, 3, 4, 5, 1, 2, 3, 4, 5, 4, 5, 3, 1, 2, 4, 5, 1, 4, 1, 2, 3, 1, 3, 5, 1, 1, 2, 3, 4, 3, 5, 4, 5, 3, 4, 5, 1, 1, 5, 1, 5, 1, 4, 1, 2, 3, 4, 5, 3, 1, 2, 3, 4, 5, 1, 2, 3, 4, 5, 1, 4, 5, 3, 1, 2, 3, 4, 5, 1, 2, 3, 4, 5, 1, 2, 3, 4, 5], \"Freq\": [0.9954727411525752, 0.9964935678733442, 0.996552557723794, 0.9889861311347656, 0.2586579955089646, 0.19576028621853334, 0.19788043372270517, 0.1455834619531331, 0.2014140128963249, 0.7512995277787843, 0.24579552452021955, 0.9942101549281842, 0.9912643337607184, 0.9589121461385458, 0.038743925096506905, 0.9777012792979831, 0.9849007950239285, 0.9878113633967143, 0.9863054341510253, 0.9943143682078263, 0.998424720351545, 0.9887573427746574, 0.2705147573393294, 0.12608738689545013, 0.029802473266197303, 0.5272745270173369, 0.04584995887107277, 0.9963836011825523, 0.9939030841882011, 0.9968218856956422, 0.9902739398791954, 0.07502006513277223, 0.8573721729459683, 0.05894433689003532, 0.010717152161824605, 0.092244730120541, 0.3709842407021758, 0.13034581430076445, 0.20654798266121138, 0.19852670178116433, 0.837424336896385, 0.02030119604597297, 0.10658127924135809, 0.035527093080452696, 0.9943131849753586, 0.9950251162107976, 0.9878227319967983, 0.029509022028494987, 0.8380562256092576, 0.13279059912822744, 0.9897435708976007, 0.9807727991219614, 0.016078242608556743, 0.8069523495507052, 0.1374807706641942, 0.05379682330338034, 0.8707956099470513, 0.10629429980574334, 0.02044121150110449, 0.0843166796787285, 0.899377916573104, 0.9868505189021103, 0.9878952642471345, 0.9852025164266001, 0.1388419582116838, 0.7615271041307505, 0.1009759696084973, 0.6912469337154352, 0.03775718545504478, 0.19749912391869576, 0.07551437091008956, 0.9921990873709581, 0.9886121553929995, 0.9901753175156411, 0.7580158947266825, 0.10892310510735322, 0.1333752307436978, 0.062117471901888134, 0.9354160474637272, 0.9914399110234322, 0.2718907689271039, 0.1719309274097863, 0.1466077675587325, 0.2985467266650553, 0.10928942672560059, 0.9906399850684641, 0.986744931546012, 0.7273145881268188, 0.22783348543731674, 0.04206156654227386, 0.9947718308240945, 0.9960166392083348, 0.9943584331331734, 0.07237094253393177, 0.7335781902303083, 0.19079612122582013, 0.4435595169379465, 0.48589928900929596, 0.04233977207134944, 0.02822651471423296, 0.9012958074051761, 0.09060645682909178, 0.9923133213185761, 0.9829493166341239, 0.27617075394854745, 0.6307142894230341, 0.06717666987937641, 0.02239222329312547, 0.9869613352721536, 0.22044272554562663, 0.1431741413337575, 0.10908506006381524, 0.2136249092916382, 0.31361954768346884, 0.9927445989403425, 0.3000381003855323, 0.55538967518173, 0.03830273621942965, 0.06702978838400189, 0.03830273621942965, 0.9951967879714949, 0.9967627191412866, 0.9915363439741526, 0.9420968107892365, 0.057096776411468875, 0.9876078760471522, 0.9880898935146174, 0.9826604208738036, 0.9956494066903135, 0.05939096014143931, 0.9304583755492158, 0.9967437230565742, 0.08175100127185103, 0.16350200254370206, 0.05573931904898934, 0.040875500635925516, 0.6540080101748083, 0.7681215077885457, 0.2279586410211168, 0.9784919931051519, 0.9942901277850444, 0.9736058329748448, 0.9921349516267045, 0.9899875050558364, 0.007952689827250801, 0.9901098834927249, 0.07847058036802627, 0.9202458970432171, 0.9908925812855613, 0.9989187289301664, 0.9878090021797513, 0.9100301408227407, 0.07479699787584171, 0.018699249468960427, 0.9899035530878608, 0.21493589853752265, 0.5121876731106922, 0.0914620844840522, 0.12118726194136915, 0.05945035491463393, 0.9956277872710118, 0.013492311164146766, 0.7960463586846592, 0.10793848931317412, 0.0809538669848806, 0.9952530597977726, 0.17533305754739356, 0.8245392436012562, 0.9987606257264992, 0.08801353986713817, 0.032004923588050245, 0.8681335523258629, 0.012001846345518841, 0.9903481678117625, 0.9894080769604724, 0.006730667190207295, 0.15574997443236513, 0.12330206309228907, 0.44561798240371137, 0.11681248082427385, 0.15791316852170353, 0.574483885427727, 0.4234977360524911, 0.08299198378302099, 0.11670747719487326, 0.1400489726338479, 0.4357079148608602, 0.22433770616347862, 0.02704851426331938, 0.9647303420583911, 0.987688838737594, 0.9978037642144804, 0.20850618344611466, 0.7898704831723402, 0.9874683537762301, 0.9021965991929638, 0.07386404905673388, 0.02110401401620968, 0.27090088319005234, 0.01621589793743271, 0.23274582921962242, 0.36533464176686636, 0.11541903826055047, 0.38171429079114644, 0.10632224538018234, 0.1533829113681319, 0.27190607015259743, 0.08714938145916586, 0.9870506040282471, 0.23785002917212295, 0.06059297321114919, 0.1537433648641099, 0.3644622120013899, 0.1835876651024371, 0.9970790608192105, 0.07728228772478588, 0.07937099820383414, 0.05117340673668254, 0.27675413847389535, 0.515911488324922, 0.7970921993867041, 0.2024361141299566, 0.9823033147498178, 0.944928637938591, 0.05249603544103284, 0.22481745054262486, 0.056204362635656216, 0.6669584366097872, 0.04871044761756872, 0.9885588300851291, 0.10196254332852661, 0.45234291949382716, 0.3411110540445254, 0.07415457696620117, 0.02966183078648047, 0.9907701988618346, 0.96991762679372, 0.971948850878019, 0.9799900824491509, 0.1260016399253915, 0.5835865428123397, 0.08621164837000472, 0.11273830940692925, 0.08952748099962028, 0.9970484937443819, 0.9921589686706656, 0.9832058987177689, 0.9760853544656568, 0.14467628457418896, 0.17746957574433844, 0.12731513042528628, 0.030864274042493645, 0.5189056073394244, 0.10519387499077536, 0.7633299133946007, 0.1321666634499485, 0.9907817753541287, 0.9781580226268884, 0.9870000228301178, 0.9931464019952612, 0.05963585029551268, 0.009174746199309643, 0.9266493661302739, 0.9919498891181632, 0.9904996213081151, 0.9863889076576102, 0.8505888545419416, 0.023349497967818003, 0.1234187749727523, 0.027065175084548795, 0.9608137155014822, 0.9974660070948699, 0.13777985335299842, 0.2989330746855234, 0.056588154055695776, 0.3604419377895405, 0.14639109418756083, 0.9971355707769564, 0.92903197965434, 0.014366473912180516, 0.052677071011328555, 0.9859907805142474, 0.9945963785600084, 0.9917761333592477, 0.9920125252927849, 0.04687047817391181, 0.7643493363745618, 0.10095179914381004, 0.04326505677591859, 0.04687047817391181, 0.984498914277315, 0.9975491143254305, 0.11327763830781128, 0.88669047916804, 0.28060039321761343, 0.12363086631865146, 0.22781418063212178, 0.22364684805958296, 0.14377297375258904, 0.23808227715766458, 0.22717774537945093, 0.3743889243853351, 0.08723625422570916, 0.0726968785214243, 0.7890665102209867, 0.20887054682320236, 0.997360443451067, 0.9797150769410596, 0.1826669279297932, 0.8145957596869156, 0.9605096208672228, 0.040584913557769976, 0.036632099355977187, 0.05952716145346292, 0.8745913721239553, 0.027474074516982888, 0.07890617198605601, 0.8894877569337223, 0.021519865087106183, 0.997706173325313, 0.11368418645712591, 0.4565703617391024, 0.1888624387916769, 0.1833615910598805, 0.05684209322856296, 0.9853114583570933, 0.2595091786072005, 0.7342210906935429, 0.5265877425649714, 0.47392896830847425, 0.9860286925317264, 0.9818341993925143, 0.09894305477519416, 0.061839409234496344, 0.12780144575129246, 0.08657517292829489, 0.6225167196272632, 0.11018812982155887, 0.8563191803275433, 0.03148232280615968, 0.04287956822526857, 0.9090468463756937, 0.04287956822526857, 0.3304132029305596, 0.19459918700204737, 0.24933020834637318, 0.09020483147490738, 0.13581401592851222, 0.9922442884153991, 0.997218423928138, 0.13547557583780176, 0.13012785573894117, 0.26560343157674293, 0.12656270900636743, 0.34225408632707816, 0.10325730516126619, 0.4407324000785752, 0.37525215778118687, 0.08310953830053132, 0.9967862836093558, 0.9856702637741194, 0.9976669408426873, 0.096700265484524, 0.9025358111888906, 0.9908194740970632, 0.9917399688525779, 0.9991120381284335, 0.9951265874440129, 0.43129186502355427, 0.016793665540740167, 0.4984665271865149, 0.011450226505050114, 0.04122081541818041, 0.9992626232075911, 0.7188962180148945, 0.19018418466002499, 0.049447888011606496, 0.015214734772801998, 0.028527627699003747, 0.037883637100934786, 0.07436417653146457, 0.6664713934423712, 0.22028633425358374, 0.3383446348624639, 0.6594487787765221, 0.9874482952867908, 0.9964524662473118, 0.9888659206467247, 0.9593215292461841, 0.03942417243477469, 0.994859284596449, 0.9902060262707217, 0.9861457152262818, 0.8924380513116539, 0.10568345344480112, 0.990491435911423, 0.9925882422254776, 0.9943481893599248, 0.9818310110153491, 0.8453332059636889, 0.1414370733713565, 0.009867702793350454, 0.04675406106357582, 0.9272888777609204, 0.02337703053178791, 0.9244083984994843, 0.07278806287397514, 0.061118577046803256, 0.3132327073648667, 0.09677108032410515, 0.1553430499939583, 0.37435128441167, 0.982073543183807, 0.9856020052492114, 0.04581391146834729, 0.03171732332424043, 0.3066007921343242, 0.6132015842686483, 0.3556730185389601, 0.4311188103502547, 0.18322549439885824, 0.023711534569264007, 0.008622376207005093, 0.9845382403358072, 0.9885819352398648, 0.5768175798694943, 0.09171158173657232, 0.2606539691460476, 0.07240388031834656, 0.03164138794052027, 0.8932607210900724, 0.04137719961452651, 0.034075340859021835, 0.08077809179224374, 0.9154850403120958, 0.44143099187390406, 0.022521989381321637, 0.536023347275455, 0.07728482697167717, 0.9177573202886664, 0.9885810556491086, 0.8215589536292174, 0.003821204435484732, 0.034390839919362585, 0.14138456411293507, 0.7615876938513346, 0.11091082920165067, 0.12816362485524077, 0.47189853618496413, 0.20098422836417792, 0.1503928375474218, 0.11016145850201504, 0.06664940906234766, 0.8651707160977216, 0.12478423789870983, 0.948242610422266, 0.04943444888457311, 0.9777626483289464, 0.018624050444360885, 0.03670992279229835, 0.1786549575891853, 0.0954457992599757, 0.5800167801183139, 0.10768244019074182, 0.9818982719619971, 0.9940071594007939, 0.9923160124954317, 0.24080309174447337, 0.06208204709037204, 0.6753774213770777, 0.02069401569679068, 0.7766668460852272, 0.18132299908604527, 0.009066149954302263, 0.03324254983244163, 0.9964186759312113, 0.9904962386960249, 0.10052282883823224, 0.13081737999495976, 0.2464874844115558, 0.07298232778666176, 0.4489101671405988, 0.10180429879570273, 0.87624414320587, 0.018179339070661202, 0.9891616599294979, 0.03757134889577996, 0.09392837223944991, 0.1001902637220799, 0.7702126523634892, 0.9964053075140954, 0.9979868202671566, 0.049519722242794204, 0.9479489686477748, 0.9869447864146803, 0.06901032449438081, 0.9230130901123434, 0.868163830263758, 0.07892398456943255, 0.004932749035589534, 0.044394741320305804, 0.0900430367047302, 0.9079339534393628, 0.98293605336118, 0.9907201964335467, 0.03860074634248051, 0.958000341045198, 0.12667434145739498, 0.13136598373359482, 0.23458211380999072, 0.5066973658295799, 0.9960278969182895, 0.9782862819285582, 0.9929611667908825, 0.9894359358470594, 0.3549020019317126, 0.6414283888123613, 0.003255981669098281, 0.24574852636484254, 0.10321438107323387, 0.1680919920335523, 0.2968642198487298, 0.18578588593182097, 0.9921199541087253, 0.07473376421523537, 0.9266986762689186, 0.9969143204695142, 0.5842035046984063, 0.06243396233418083, 0.1025700809775828, 0.19622102447885406, 0.05648787068330647, 0.9927405871333744, 0.9865712059052086, 0.29026965755062134, 0.043922382392528235, 0.18523787356848864, 0.3762047535360027, 0.10312211518245759, 0.1666939429112258, 0.13127148004259032, 0.16044292005205482, 0.4188185315644548, 0.12293678289702903, 0.7386513637015077, 0.2610271736388787, 0.99446432782858, 0.0628869081491506, 0.12325833997233517, 0.24651667994467033, 0.5684976496683214, 0.9969378495990046, 0.9938222120597584, 0.08453464282001724, 0.8211936731087389, 0.08453464282001724, 0.9901287225361153, 0.6571681044394574, 0.3405016085178536, 0.9856781283290296, 0.2216998823977413, 0.016653512292788077, 0.6994475162970993, 0.062450671097955296, 0.9984116958185987, 0.9686782308701978, 0.946645462486126, 0.04813451504166742, 0.805327356402202, 0.04147608702500611, 0.14862264517293858, 0.9935145003457115, 0.7611843938476335, 0.23592264838552382, 0.9749252877228314, 0.02267268110983329, 0.18101897016620835, 0.8179375688991637, 0.4199641499179673, 0.006268121640566677, 0.20528098372855866, 0.31497311243847553, 0.05171200353467508, 0.9931335212048437, 0.013485871032253785, 0.022476451720422973, 0.8586004557201576, 0.05843877447309973, 0.044952903440845945, 0.15246448589027212, 0.14042781595156642, 0.14711485480640293, 0.3504008359934324, 0.209973020041866, 0.07199316858379373, 0.7365454939726589, 0.19013580420848086, 0.9954349936932608, 0.3976719468662123, 0.04485021957137733, 0.30647650040441177, 0.10614551965225968, 0.14501570994745336, 0.049484340682702355, 0.2774657673994382, 0.18556627756013383, 0.3287174059636656, 0.15905680933725755, 0.08111621682678732, 0.3863819795595491, 0.09215570195706016, 0.22846934443521164, 0.21215010554698224], \"Term\": [\"actor\", \"actress\", \"airline\", \"album\", \"also\", \"also\", \"also\", \"also\", \"also\", \"analyst\", \"analyst\", \"anti\", \"apple\", \"arrest\", \"arrest\", \"arsenal\", \"asset\", \"asylum\", \"athlete\", \"aviator\", \"award\", \"baby\", \"back\", \"back\", \"back\", \"back\", \"back\", \"ball\", \"band\", \"bank\", \"bankruptcy\", \"bid\", \"bid\", \"bid\", \"bid\", \"big\", \"big\", \"big\", \"big\", \"big\", \"bill\", \"bill\", \"bill\", \"bill\", \"blog\", \"broadband\", \"brown\", \"business\", \"business\", \"business\", \"camera\", \"campaign\", \"campaign\", \"car\", \"car\", \"car\", \"case\", \"case\", \"case\", \"category\", \"category\", \"ceremony\", \"champion\", \"championship\", \"chance\", \"chance\", \"chance\", \"change\", \"change\", \"change\", \"change\", \"chart\", \"chelsea\", \"civil\", \"claim\", \"claim\", \"claim\", \"club\", \"club\", \"coach\", \"come\", \"come\", \"come\", \"come\", \"come\", \"comedy\", \"commission\", \"company\", \"company\", \"company\", \"computer\", \"conservative\", \"content\", \"cost\", \"cost\", \"cost\", \"country\", \"country\", \"country\", \"country\", \"court\", \"court\", \"crowd\", \"cup\", \"cut\", \"cut\", \"cut\", \"cut\", \"dance\", \"day\", \"day\", \"day\", \"day\", \"day\", \"dead\", \"deal\", \"deal\", \"deal\", \"deal\", \"deal\", \"debate\", \"debt\", \"defeat\", \"deficit\", \"deficit\", \"definition\", \"dem\", \"deutsche\", \"device\", \"die\", \"die\", \"digital\", \"director\", \"director\", \"director\", \"director\", \"director\", \"dollar\", \"dollar\", \"dope\", \"download\", \"drake\", \"drama\", \"earning\", \"economic\", \"economic\", \"economy\", \"economy\", \"education\", \"election\", \"euro\", \"evidence\", \"evidence\", \"evidence\", \"exchange\", \"expect\", \"expect\", \"expect\", \"expect\", \"expect\", \"export\", \"fall\", \"fall\", \"fall\", \"fall\", \"festival\", \"file\", \"file\", \"film\", \"final\", \"final\", \"final\", \"final\", \"finance\", \"financial\", \"financial\", \"find\", \"find\", \"find\", \"find\", \"find\", \"firm\", \"firm\", \"first\", \"first\", \"first\", \"first\", \"first\", \"football\", \"football\", \"forecast\", \"gadget\", \"game\", \"game\", \"gaming\", \"general\", \"general\", \"general\", \"get\", \"get\", \"get\", \"get\", \"get\", \"give\", \"give\", \"give\", \"give\", \"give\", \"globe\", \"go\", \"go\", \"go\", \"go\", \"go\", \"goal\", \"good\", \"good\", \"good\", \"good\", \"good\", \"government\", \"government\", \"grand\", \"growth\", \"growth\", \"half\", \"half\", \"half\", \"half\", \"handset\", \"high\", \"high\", \"high\", \"high\", \"high\", \"hip\", \"hollywood\", \"hop\", \"housing\", \"however\", \"however\", \"however\", \"however\", \"however\", \"hunt\", \"image\", \"immigration\", \"import\", \"include\", \"include\", \"include\", \"include\", \"include\", \"increase\", \"increase\", \"increase\", \"indian\", \"inflation\", \"injure\", \"injury\", \"internet\", \"internet\", \"internet\", \"investment\", \"investor\", \"ipod\", \"issue\", \"issue\", \"issue\", \"kick\", \"kick\", \"labour\", \"last\", \"last\", \"last\", \"last\", \"last\", \"law\", \"leader\", \"leader\", \"leader\", \"league\", \"liberal\", \"lion\", \"liverpool\", \"low\", \"low\", \"low\", \"low\", \"low\", \"lse\", \"machine\", \"mail\", \"mail\", \"make\", \"make\", \"make\", \"make\", \"make\", \"many\", \"many\", \"many\", \"many\", \"many\", \"market\", \"market\", \"match\", \"medal\", \"message\", \"message\", \"minister\", \"minister\", \"minute\", \"minute\", \"minute\", \"minute\", \"miss\", \"miss\", \"miss\", \"mobile\", \"month\", \"month\", \"month\", \"month\", \"month\", \"mourinho\", \"movie\", \"movie\", \"music\", \"music\", \"musical\", \"musician\", \"name\", \"name\", \"name\", \"name\", \"name\", \"net\", \"net\", \"net\", \"network\", \"network\", \"network\", \"new\", \"new\", \"new\", \"new\", \"new\", \"nominate\", \"nomination\", \"number\", \"number\", \"number\", \"number\", \"number\", \"offer\", \"offer\", \"offer\", \"offer\", \"oil\", \"olympic\", \"online\", \"original\", \"original\", \"oscar\", \"parliament\", \"party\", \"pc\", \"people\", \"people\", \"people\", \"people\", \"people\", \"phone\", \"plan\", \"plan\", \"plan\", \"plan\", \"plan\", \"play\", \"play\", \"play\", \"play\", \"player\", \"player\", \"pledge\", \"police\", \"politic\", \"political\", \"political\", \"politician\", \"portable\", \"premiership\", \"price\", \"price\", \"prize\", \"profit\", \"program\", \"propose\", \"public\", \"public\", \"public\", \"race\", \"race\", \"race\", \"rate\", \"rate\", \"record\", \"record\", \"record\", \"record\", \"record\", \"referee\", \"region\", \"release\", \"release\", \"release\", \"release\", \"report\", \"report\", \"report\", \"report\", \"report\", \"retail\", \"revenue\", \"right\", \"right\", \"right\", \"right\", \"rise\", \"rise\", \"rise\", \"rise\", \"rock\", \"rock\", \"role\", \"role\", \"role\", \"round\", \"round\", \"rugby\", \"rule\", \"rule\", \"rule\", \"rule\", \"sale\", \"sale\", \"sale\", \"say\", \"say\", \"say\", \"say\", \"say\", \"score\", \"score\", \"search\", \"search\", \"season\", \"season\", \"second\", \"second\", \"second\", \"second\", \"second\", \"secretary\", \"seed\", \"sequel\", \"service\", \"service\", \"service\", \"service\", \"share\", \"share\", \"share\", \"share\", \"shareholder\", \"shot\", \"show\", \"show\", \"show\", \"show\", \"show\", \"side\", \"side\", \"side\", \"singer\", \"single\", \"single\", \"single\", \"single\", \"site\", \"software\", \"song\", \"song\", \"spam\", \"spending\", \"spending\", \"spokesman\", \"spokesman\", \"spokesman\", \"spokesman\", \"sport\", \"sport\", \"squad\", \"stake\", \"star\", \"star\", \"start\", \"start\", \"start\", \"start\", \"stock\", \"striker\", \"student\", \"suspect\", \"system\", \"system\", \"system\", \"take\", \"take\", \"take\", \"take\", \"take\", \"takeover\", \"team\", \"team\", \"technology\", \"tell\", \"tell\", \"tell\", \"tell\", \"tell\", \"terror\", \"theatre\", \"think\", \"think\", \"think\", \"think\", \"think\", \"time\", \"time\", \"time\", \"time\", \"time\", \"title\", \"title\", \"tool\", \"top\", \"top\", \"top\", \"top\", \"tory\", \"tournament\", \"trade\", \"trade\", \"trade\", \"trust\", \"tv\", \"tv\", \"urge\", \"use\", \"use\", \"use\", \"use\", \"user\", \"vera\", \"victory\", \"victory\", \"video\", \"video\", \"video\", \"virus\", \"vote\", \"vote\", \"voter\", \"voter\", \"wale\", \"wale\", \"want\", \"want\", \"want\", \"want\", \"want\", \"web\", \"website\", \"website\", \"website\", \"website\", \"website\", \"well\", \"well\", \"well\", \"well\", \"well\", \"win\", \"win\", \"win\", \"wireless\", \"work\", \"work\", \"work\", \"work\", \"work\", \"world\", \"world\", \"world\", \"world\", \"world\", \"year\", \"year\", \"year\", \"year\", \"year\"]}, \"R\": 30, \"lambda.step\": 0.01, \"plot.opts\": {\"xlab\": \"PC1\", \"ylab\": \"PC2\"}, \"topic.order\": [5, 4, 2, 1, 3]};\n",
       "\n",
       "function LDAvis_load_lib(url, callback){\n",
       "  var s = document.createElement('script');\n",
       "  s.src = url;\n",
       "  s.async = true;\n",
       "  s.onreadystatechange = s.onload = callback;\n",
       "  s.onerror = function(){console.warn(\"failed to load library \" + url);};\n",
       "  document.getElementsByTagName(\"head\")[0].appendChild(s);\n",
       "}\n",
       "\n",
       "if(typeof(LDAvis) !== \"undefined\"){\n",
       "   // already loaded: just create the visualization\n",
       "   !function(LDAvis){\n",
       "       new LDAvis(\"#\" + \"ldavis_el7261059603611044730239144\", ldavis_el7261059603611044730239144_data);\n",
       "   }(LDAvis);\n",
       "}else if(typeof define === \"function\" && define.amd){\n",
       "   // require.js is available: use it to load d3/LDAvis\n",
       "   require.config({paths: {d3: \"https://d3js.org/d3.v5\"}});\n",
       "   require([\"d3\"], function(d3){\n",
       "      window.d3 = d3;\n",
       "      LDAvis_load_lib(\"https://cdn.jsdelivr.net/gh/bmabey/pyLDAvis@3.4.0/pyLDAvis/js/ldavis.v3.0.0.js\", function(){\n",
       "        new LDAvis(\"#\" + \"ldavis_el7261059603611044730239144\", ldavis_el7261059603611044730239144_data);\n",
       "      });\n",
       "    });\n",
       "}else{\n",
       "    // require.js not available: dynamically load d3 & LDAvis\n",
       "    LDAvis_load_lib(\"https://d3js.org/d3.v5.js\", function(){\n",
       "         LDAvis_load_lib(\"https://cdn.jsdelivr.net/gh/bmabey/pyLDAvis@3.4.0/pyLDAvis/js/ldavis.v3.0.0.js\", function(){\n",
       "                 new LDAvis(\"#\" + \"ldavis_el7261059603611044730239144\", ldavis_el7261059603611044730239144_data);\n",
       "            })\n",
       "         });\n",
       "}\n",
       "</script>"
      ],
      "text/plain": [
       "PreparedData(topic_coordinates=              x         y  topics  cluster       Freq\n",
       "topic                                                \n",
       "4      0.083110  0.133712       1        1  26.904719\n",
       "3      0.137975 -0.033216       2        1  20.593903\n",
       "1      0.092588 -0.138414       3        1  19.307987\n",
       "0     -0.105328  0.137704       4        1  19.281952\n",
       "2     -0.208344 -0.099785       5        1  13.911440, topic_info=       Term         Freq        Total Category  logprob  loglift\n",
       "352    film   815.000000   815.000000  Default  30.0000  30.0000\n",
       "535    game   815.000000   815.000000  Default  29.0000  29.0000\n",
       "91      use   960.000000   960.000000  Default  28.0000  28.0000\n",
       "265  people  1310.000000  1310.000000  Default  27.0000  27.0000\n",
       "358    good   957.000000   957.000000  Default  26.0000  26.0000\n",
       "..      ...          ...          ...      ...      ...      ...\n",
       "156    make   206.648219  1439.769900   Topic5  -5.1138   0.0312\n",
       "547    play   156.748620   712.708759   Topic5  -5.3901   0.4580\n",
       "438    well   157.420016   747.715111   Topic5  -5.3859   0.4144\n",
       "527     day   138.183494   440.023592   Topic5  -5.5162   0.8142\n",
       "390     new   134.017599   986.643382   Topic5  -5.5468  -0.0239\n",
       "\n",
       "[349 rows x 6 columns], token_table=      Topic      Freq     Term\n",
       "term                          \n",
       "4347      5  0.995473    actor\n",
       "1359      5  0.996494  actress\n",
       "3562      2  0.996553  airline\n",
       "1088      5  0.988986    album\n",
       "4         1  0.258658     also\n",
       "...     ...       ...      ...\n",
       "99        1  0.081116     year\n",
       "99        2  0.386382     year\n",
       "99        3  0.092156     year\n",
       "99        4  0.228469     year\n",
       "99        5  0.212150     year\n",
       "\n",
       "[613 rows x 3 columns], R=30, lambda_step=0.01, plot_opts={'xlab': 'PC1', 'ylab': 'PC2'}, topic_order=[5, 4, 2, 1, 3])"
      ]
     },
     "execution_count": 49,
     "metadata": {},
     "output_type": "execute_result"
    }
   ],
   "source": [
    "'''\n",
    "X-axis: the first principal component, which is a linear combination of the topic-term probabilities that explains the most variance in the data.\n",
    "Y-axis: the second principal component, which is a linear combination of the topic-term probabilities that explains the second most variance in the data.\n",
    "Circle size: the overall frequency of the topic in the corpus.\n",
    "Circle color: the balance between the frequencies of the top words in the topic and the exclusivity of the words to that topic.\n",
    "'''\n",
    "\n",
    "# VIsualize the topics\n",
    "pyLDAvis.enable_notebook()\n",
    "vis=pyLDAvis.gensim.prepare(lda_model,corpus,id2word)\n",
    "vis"
   ]
  },
  {
   "cell_type": "code",
   "execution_count": 80,
   "metadata": {},
   "outputs": [
    {
     "name": "stderr",
     "output_type": "stream",
     "text": [
      "/Users/bisramr/Documents/Cooper Stuff/Advanced-NLP/LDA-topc-modeling/venv/lib/python3.11/site-packages/gensim/models/ldamodel.py:1127: RuntimeWarning: invalid value encountered in scalar add\n",
      "  score += gammaln(np.sum(self.alpha)) - gammaln(np.sum(gammad))\n",
      "/Users/bisramr/Documents/Cooper Stuff/Advanced-NLP/LDA-topc-modeling/venv/lib/python3.11/site-packages/gensim/models/ldamodel.py:1125: RuntimeWarning: invalid value encountered in multiply\n",
      "  score += np.sum((self.alpha - gammad) * Elogthetad)\n",
      "/Users/bisramr/Documents/Cooper Stuff/Advanced-NLP/LDA-topc-modeling/venv/lib/python3.11/site-packages/gensim/models/ldamodel.py:1126: RuntimeWarning: invalid value encountered in subtract\n",
      "  score += np.sum(gammaln(gammad) - gammaln(self.alpha))\n"
     ]
    }
   ],
   "source": [
    "# Build models accross a range of topic numbers and alpha values\n",
    "num_topics_range= [2, 5, 7, 10, 20]\n",
    "alpha_range=[0, 0.01,0.1,1]\n",
    "model_list, coherence_values = tm.compute_coherence_values(dictionary=id2word,corpus=corpus,texts=data_lemmatized,\\\n",
    "                                                       num_topics_range=num_topics_range,alpha_range=alpha_range)\n"
   ]
  },
  {
   "cell_type": "code",
   "execution_count": 98,
   "metadata": {},
   "outputs": [
    {
     "data": {
      "text/html": [
       "<div>\n",
       "<style scoped>\n",
       "    .dataframe tbody tr th:only-of-type {\n",
       "        vertical-align: middle;\n",
       "    }\n",
       "\n",
       "    .dataframe tbody tr th {\n",
       "        vertical-align: top;\n",
       "    }\n",
       "\n",
       "    .dataframe thead th {\n",
       "        text-align: right;\n",
       "    }\n",
       "</style>\n",
       "<table border=\"1\" class=\"dataframe\">\n",
       "  <thead>\n",
       "    <tr style=\"text-align: right;\">\n",
       "      <th></th>\n",
       "      <th>alpha</th>\n",
       "      <th>num_topics</th>\n",
       "      <th>coherence_value</th>\n",
       "    </tr>\n",
       "  </thead>\n",
       "  <tbody>\n",
       "    <tr>\n",
       "      <th>12</th>\n",
       "      <td>0.10</td>\n",
       "      <td>7</td>\n",
       "      <td>0.268236</td>\n",
       "    </tr>\n",
       "    <tr>\n",
       "      <th>1</th>\n",
       "      <td>0.00</td>\n",
       "      <td>5</td>\n",
       "      <td>0.266370</td>\n",
       "    </tr>\n",
       "    <tr>\n",
       "      <th>17</th>\n",
       "      <td>1.00</td>\n",
       "      <td>7</td>\n",
       "      <td>0.266287</td>\n",
       "    </tr>\n",
       "    <tr>\n",
       "      <th>3</th>\n",
       "      <td>0.00</td>\n",
       "      <td>10</td>\n",
       "      <td>0.264082</td>\n",
       "    </tr>\n",
       "    <tr>\n",
       "      <th>5</th>\n",
       "      <td>0.01</td>\n",
       "      <td>2</td>\n",
       "      <td>0.263768</td>\n",
       "    </tr>\n",
       "    <tr>\n",
       "      <th>9</th>\n",
       "      <td>0.01</td>\n",
       "      <td>20</td>\n",
       "      <td>0.261659</td>\n",
       "    </tr>\n",
       "    <tr>\n",
       "      <th>15</th>\n",
       "      <td>1.00</td>\n",
       "      <td>2</td>\n",
       "      <td>0.258327</td>\n",
       "    </tr>\n",
       "    <tr>\n",
       "      <th>10</th>\n",
       "      <td>0.10</td>\n",
       "      <td>2</td>\n",
       "      <td>0.258092</td>\n",
       "    </tr>\n",
       "    <tr>\n",
       "      <th>11</th>\n",
       "      <td>0.10</td>\n",
       "      <td>5</td>\n",
       "      <td>0.256437</td>\n",
       "    </tr>\n",
       "    <tr>\n",
       "      <th>6</th>\n",
       "      <td>0.01</td>\n",
       "      <td>5</td>\n",
       "      <td>0.255739</td>\n",
       "    </tr>\n",
       "    <tr>\n",
       "      <th>16</th>\n",
       "      <td>1.00</td>\n",
       "      <td>5</td>\n",
       "      <td>0.255533</td>\n",
       "    </tr>\n",
       "    <tr>\n",
       "      <th>14</th>\n",
       "      <td>0.10</td>\n",
       "      <td>20</td>\n",
       "      <td>0.254313</td>\n",
       "    </tr>\n",
       "    <tr>\n",
       "      <th>13</th>\n",
       "      <td>0.10</td>\n",
       "      <td>10</td>\n",
       "      <td>0.254202</td>\n",
       "    </tr>\n",
       "    <tr>\n",
       "      <th>18</th>\n",
       "      <td>1.00</td>\n",
       "      <td>10</td>\n",
       "      <td>0.254096</td>\n",
       "    </tr>\n",
       "    <tr>\n",
       "      <th>19</th>\n",
       "      <td>1.00</td>\n",
       "      <td>20</td>\n",
       "      <td>0.253443</td>\n",
       "    </tr>\n",
       "    <tr>\n",
       "      <th>4</th>\n",
       "      <td>0.00</td>\n",
       "      <td>20</td>\n",
       "      <td>0.253336</td>\n",
       "    </tr>\n",
       "    <tr>\n",
       "      <th>2</th>\n",
       "      <td>0.00</td>\n",
       "      <td>7</td>\n",
       "      <td>0.251920</td>\n",
       "    </tr>\n",
       "    <tr>\n",
       "      <th>7</th>\n",
       "      <td>0.01</td>\n",
       "      <td>7</td>\n",
       "      <td>0.249707</td>\n",
       "    </tr>\n",
       "    <tr>\n",
       "      <th>8</th>\n",
       "      <td>0.01</td>\n",
       "      <td>10</td>\n",
       "      <td>0.247965</td>\n",
       "    </tr>\n",
       "    <tr>\n",
       "      <th>0</th>\n",
       "      <td>0.00</td>\n",
       "      <td>2</td>\n",
       "      <td>0.244153</td>\n",
       "    </tr>\n",
       "  </tbody>\n",
       "</table>\n",
       "</div>"
      ],
      "text/plain": [
       "    alpha  num_topics  coherence_value\n",
       "12   0.10           7         0.268236\n",
       "1    0.00           5         0.266370\n",
       "17   1.00           7         0.266287\n",
       "3    0.00          10         0.264082\n",
       "5    0.01           2         0.263768\n",
       "9    0.01          20         0.261659\n",
       "15   1.00           2         0.258327\n",
       "10   0.10           2         0.258092\n",
       "11   0.10           5         0.256437\n",
       "6    0.01           5         0.255739\n",
       "16   1.00           5         0.255533\n",
       "14   0.10          20         0.254313\n",
       "13   0.10          10         0.254202\n",
       "18   1.00          10         0.254096\n",
       "19   1.00          20         0.253443\n",
       "4    0.00          20         0.253336\n",
       "2    0.00           7         0.251920\n",
       "7    0.01           7         0.249707\n",
       "8    0.01          10         0.247965\n",
       "0    0.00           2         0.244153"
      ]
     },
     "execution_count": 98,
     "metadata": {},
     "output_type": "execute_result"
    }
   ],
   "source": [
    "coherence_df = pd.DataFrame(coherence_values, columns=['alpha', 'num_topics', 'coherence_value'])\n",
    "coherence_df.sort_values(\"coherence_value\", ascending = False)"
   ]
  },
  {
   "cell_type": "code",
   "execution_count": 79,
   "metadata": {},
   "outputs": [
    {
     "data": {
      "image/png": "[encoded data removed]",
      "text/plain": [
       "<Figure size 1600x600 with 3 Axes>"
      ]
     },
     "metadata": {},
     "output_type": "display_data"
    }
   ],
   "source": [
    "tm.plot_coherence(coherence_df,alpha_range,num_topics_range)"
   ]
  },
  {
   "cell_type": "markdown",
   "metadata": {},
   "source": [
    "# Summaries"
   ]
  },
  {
   "cell_type": "code",
   "execution_count": 93,
   "metadata": {},
   "outputs": [
    {
     "name": "stdout",
     "output_type": "stream",
     "text": [
      "entertainment\n",
      "business\n",
      "sport\n",
      "politics\n",
      "tech\n",
      "<class 'pandas.core.frame.DataFrame'>\n",
      "RangeIndex: 2225 entries, 0 to 2224\n",
      "Data columns (total 3 columns):\n",
      " #   Column      Non-Null Count  Dtype \n",
      "---  ------      --------------  ----- \n",
      " 0   article ID  2225 non-null   int64 \n",
      " 1   Text        2225 non-null   object\n",
      " 2   category    2225 non-null   object\n",
      "dtypes: int64(1), object(2)\n",
      "memory usage: 52.3+ KB\n",
      "None\n"
     ]
    }
   ],
   "source": [
    "import os\n",
    "import pandas as pd\n",
    "\n",
    "# Create an empty list to store the article data\n",
    "articles = []\n",
    "\n",
    "# Define the directory path where the articles are stored\n",
    "dir_path = \"BBC News Summary/Summaries\"\n",
    "article_id = 0\n",
    "\n",
    "# Loop through each subdirectory in the News Articles directory\n",
    "for subdir in os.listdir(dir_path):\n",
    "    if os.path.isdir(os.path.join(dir_path, subdir)):\n",
    "        # Get the category name from the subdirectory name\n",
    "        category = subdir\n",
    "        print(category)\n",
    "        \n",
    "        # Loop through each text file in the subdirectory\n",
    "        for filename in os.listdir(os.path.join(dir_path, subdir)):\n",
    "            # Get the article ID from the filename\n",
    "            # article_id = os.path.splitext(filename)[0]\n",
    "            \n",
    "            # Read in the text from the file\n",
    "            with open(os.path.join(dir_path, subdir, filename), 'r') as f:\n",
    "                text = f.read()\n",
    "            \n",
    "            # Add the article data to the list\n",
    "            articles.append([article_id, text, category])\n",
    "\n",
    "            article_id += 1\n",
    "\n",
    "# Create a DataFrame from the list of article data\n",
    "summary_df = pd.DataFrame(articles, columns=['article ID', 'Text', 'Category'])\n",
    "print(summary_df.info())"
   ]
  },
  {
   "cell_type": "code",
   "execution_count": 95,
   "metadata": {},
   "outputs": [
    {
     "name": "stdout",
     "output_type": "stream",
     "text": [
      "['but', 'they', 'still', 'want', 'more', 'they', 'have', 'to', 'want', 'to']\n",
      "stopwords removed\n",
      "['still', 'want', 'want', 'big', 'band', 'ever', 'stop', 'want', 'band', 'do']\n",
      "but they still want more they have to want to be the biggest band ever and not stop wanting it \n",
      "\n",
      "still want want big band ever stop want band do considerable power ensure remain big band world accord magazine editor\n",
      "[(1, 1), (2, 1), (6, 4), (17, 1), (33, 2), (43, 1), (44, 2), (56, 1), (61, 4), (62, 1), (63, 1), (64, 1), (65, 1), (66, 3), (67, 1), (68, 1), (69, 1), (70, 1), (71, 2), (72, 1), (73, 9), (74, 1), (75, 2), (76, 1), (77, 1), (78, 1), (79, 1), (80, 1), (81, 2), (82, 1), (83, 1), (84, 1), (85, 2), (86, 1), (87, 1), (88, 1), (89, 1), (90, 1), (91, 1), (92, 1), (93, 1), (94, 2), (95, 1), (96, 1), (97, 1), (98, 1), (99, 1), (100, 1), (101, 1), (102, 1), (103, 1), (104, 1), (105, 1), (106, 1), (107, 1), (108, 2), (109, 1), (110, 2), (111, 1), (112, 3), (113, 1), (114, 1), (115, 1), (116, 1), (117, 1), (118, 1), (119, 1), (120, 3), (121, 1), (122, 1), (123, 1), (124, 4), (125, 2), (126, 1), (127, 1), (128, 1), (129, 1), (130, 2), (131, 1), (132, 1), (133, 2), (134, 1), (135, 2), (136, 1), (137, 1), (138, 1), (139, 1), (140, 1), (141, 3), (142, 1), (143, 1), (144, 1), (145, 1), (146, 1), (147, 2), (148, 1), (149, 1), (150, 1), (151, 1), (152, 1), (153, 1), (154, 1), (155, 1), (156, 1), (157, 4), (158, 1), (159, 1), (160, 1), (161, 1), (162, 1), (163, 1), (164, 1), (165, 3), (166, 1), (167, 1), (168, 1), (169, 1), (170, 5), (171, 2), (172, 1), (173, 1), (174, 3), (175, 1)]\n",
      "[[('act', 2), ('add', 1), ('also', 1), ('application', 1), ('artist', 1), ('aware', 1), ('big', 1), ('blame', 1), ('british', 3), ('bureaucracy', 1), ('chance', 1), ('compare', 1), ('counterpart', 1), ('creaky', 1), ('current', 1), ('develop', 1), ('disadvantage', 1), ('do', 1), ('endorse', 1), ('entertainer', 1), ('expect', 1), ('face', 1), ('forum', 1), ('group', 1), ('hinder', 1), ('hope', 1), ('impractical', 1), ('maintain', 1), ('manager', 1), ('market', 1), ('mean', 1), ('mmf', 1), ('momentum', 1), ('music', 2), ('musician', 3), ('obtain', 1), ('pay', 1), ('perform', 1), ('prevent', 1), ('process', 1), ('regulation', 1), ('require', 1), ('requirement', 1), ('say', 4), ('see', 1), ('simply', 1), ('singer', 1), ('situation', 1), ('specific', 1), ('speedily', 1), ('spokesman', 1), ('stance', 1), ('struggle', 1), ('succeed', 2), ('tackle', 1), ('thank', 1), ('time', 1), ('tough', 1), ('union', 1), ('uphill', 1), ('visa', 4), ('world', 1)], [('add', 1), ('also', 1), ('big', 4), ('do', 1), ('music', 2), ('say', 1), ('see', 2), ('time', 1), ('world', 4), ('accord', 1), ('achievement', 1), ('age', 1), ('aim', 1), ('album', 3), ('alone', 1), ('anthemic', 1), ('appeal', 1), ('atlantic', 1), ('atomic', 2), ('award', 1), ('band', 9), ('bolder', 1), ('bomb', 2), ('branch', 1), ('break', 1), ('breakthrough', 1), ('bring', 1), ('cement', 1), ('challenge', 2), ('chart', 1), ('cliche', 1), ('cling', 1), ('come', 2), ('considerable', 1), ('continue', 1), ('crucial', 1), ('dance', 1), ('day', 1), ('decade', 1), ('determined', 1), ('different', 1), ('dismantle', 2), ('editor', 1), ('electronic', 1), ('end', 1), ('ensure', 1), ('equally', 1), ('ever', 1), ('exploration', 1), ('extravagant', 1), ('fill', 1), ('find', 1), ('first', 1), ('foray', 1), ('form', 1), ('get', 2), ('give', 1), ('go', 2), ('height', 1), ('hit', 3), ('image', 1), ('include', 1), ('knock', 1), ('list', 1), ('listen', 1), ('look', 1), ('magazine', 1), ('make', 3), ('mark', 1), ('mass', 1), ('name', 1), ('new', 4), ('number', 2), ('perhaps', 1), ('place', 1), ('point', 1), ('political', 1), ('power', 2), ('prestigious', 1), ('push', 1), ('reach', 2), ('recently', 1), ('record', 2), ('ree', 1), ('reject', 1), ('release', 1), ('remain', 1), ('retain', 1), ('rock', 3), ('sale', 1), ('schoolfriend', 1), ('sell', 1), ('show', 1), ('side', 1), ('single', 2), ('song', 1), ('sound', 1), ('spiritual', 1), ('spot', 1), ('stadium', 1), ('stage', 1), ('stand', 1), ('start', 1), ('status', 1), ('still', 4), ('stop', 1), ('street', 1), ('stubbornly', 1), ('success', 1), ('think', 1), ('third', 1), ('together', 1), ('top', 3), ('tree', 1), ('try', 1), ('vertigo', 1), ('veteran', 1), ('want', 5), ('well', 2), ('whole', 1), ('wildly', 1), ('year', 3), ('yearn', 1)]]\n"
     ]
    }
   ],
   "source": [
    "summary_id2word, summary_corpus = tm.gen_dict_and_corpus(summary_df)"
   ]
  },
  {
   "cell_type": "code",
   "execution_count": 96,
   "metadata": {},
   "outputs": [
    {
     "data": {
      "text/plain": [
       "[(0,\n",
       "  '0.018*\"year\" + 0.017*\"music\" + 0.015*\"say\" + 0.014*\"net\" + 0.012*\"video\" + 0.011*\"high\" + 0.010*\"company\" + 0.009*\"firm\" + 0.009*\"online\" + 0.009*\"market\"'),\n",
       " (1,\n",
       "  '0.053*\"game\" + 0.026*\"player\" + 0.018*\"play\" + 0.015*\"mail\" + 0.013*\"first\" + 0.012*\"time\" + 0.012*\"year\" + 0.012*\"good\" + 0.011*\"go\" + 0.011*\"get\"'),\n",
       " (2,\n",
       "  '0.065*\"say\" + 0.007*\"make\" + 0.007*\"people\" + 0.007*\"new\" + 0.006*\"tell\" + 0.006*\"site\" + 0.006*\"also\" + 0.006*\"security\" + 0.006*\"government\" + 0.005*\"want\"'),\n",
       " (3,\n",
       "  '0.023*\"people\" + 0.021*\"use\" + 0.019*\"phone\" + 0.018*\"mobile\" + 0.012*\"service\" + 0.012*\"technology\" + 0.011*\"system\" + 0.011*\"make\" + 0.010*\"computer\" + 0.009*\"user\"'),\n",
       " (4,\n",
       "  '0.039*\"tv\" + 0.026*\"virus\" + 0.020*\"program\" + 0.017*\"console\" + 0.017*\"domain\" + 0.015*\"film\" + 0.015*\"gaming\" + 0.014*\"name\" + 0.014*\"watch\" + 0.012*\"spam\"')]"
      ]
     },
     "execution_count": 96,
     "metadata": {},
     "output_type": "execute_result"
    }
   ],
   "source": [
    "# Build LDA model\n",
    "summary_lda_model= gensim.models.ldamodel.LdaModel(corpus=summary_corpus,id2word=summary_id2word,num_topics=5,random_state=100,\\\n",
    "                                          update_every=1,chunksize=100,passes=10,alpha='auto',per_word_topics=True)\n",
    "\n",
    "# print the 10 topics\n",
    "summary_lda_model.print_topics()"
   ]
  },
  {
   "cell_type": "code",
   "execution_count": 97,
   "metadata": {},
   "outputs": [
    {
     "data": {
      "text/html": [
       "\n",
       "<link rel=\"stylesheet\" type=\"text/css\" href=\"https://cdn.jsdelivr.net/gh/bmabey/pyLDAvis@3.4.0/pyLDAvis/js/ldavis.v1.0.0.css\">\n",
       "\n",
       "\n",
       "<div id=\"ldavis_el72610111854711843660596718\" style=\"background-color:white;\"></div>\n",
       "<script type=\"text/javascript\">\n",
       "\n",
       "var ldavis_el72610111854711843660596718_data = {\"mdsDat\": {\"x\": [0.13355729985312886, 0.0980507008940608, 0.14568146047786673, -0.03285373201059491, -0.3444357292144616], \"y\": [-0.006726187442747452, -0.1093010967063823, 0.24262131037518547, -0.21610219013427556, 0.08950816390821976], \"topics\": [1, 2, 3, 4, 5], \"cluster\": [1, 1, 1, 1, 1], \"Freq\": [37.30931021460072, 21.505503763904034, 18.196401481258277, 17.025621818593383, 5.9631627216435845]}, \"tinfo\": {\"Term\": [\"game\", \"say\", \"player\", \"tv\", \"phone\", \"use\", \"people\", \"mobile\", \"play\", \"music\", \"net\", \"mail\", \"virus\", \"year\", \"technology\", \"high\", \"video\", \"program\", \"service\", \"system\", \"computer\", \"good\", \"online\", \"win\", \"console\", \"first\", \"digital\", \"domain\", \"company\", \"market\", \"security\", \"search\", \"law\", \"legal\", \"ask\", \"action\", \"send\", \"message\", \"medium\", \"attack\", \"court\", \"free\", \"child\", \"case\", \"machine\", \"spokesman\", \"source\", \"talk\", \"stop\", \"window\", \"local\", \"regulation\", \"force\", \"human\", \"decision\", \"police\", \"site\", \"nation\", \"speak\", \"anti\", \"project\", \"bring\", \"tell\", \"group\", \"claim\", \"issue\", \"say\", \"right\", \"pay\", \"rule\", \"problem\", \"find\", \"government\", \"want\", \"plan\", \"give\", \"work\", \"card\", \"make\", \"new\", \"also\", \"people\", \"many\", \"firm\", \"go\", \"use\", \"take\", \"get\", \"see\", \"net\", \"market\", \"online\", \"sale\", \"cost\", \"datum\", \"survey\", \"let\", \"increase\", \"grow\", \"buy\", \"sell\", \"share\", \"figure\", \"growth\", \"tax\", \"rise\", \"store\", \"price\", \"bill\", \"dvd\", \"study\", \"lift\", \"rate\", \"analyst\", \"demand\", \"fall\", \"predict\", \"copy\", \"developer\", \"high\", \"consumer\", \"drive\", \"low\", \"video\", \"broadband\", \"music\", \"industry\", \"company\", \"year\", \"release\", \"firm\", \"month\", \"accord\", \"technology\", \"say\", \"also\", \"software\", \"last\", \"new\", \"time\", \"phone\", \"mobile\", \"computer\", \"digital\", \"network\", \"election\", \"report\", \"information\", \"labour\", \"content\", \"party\", \"device\", \"apple\", \"file\", \"speed\", \"blog\", \"fast\", \"camera\", \"tory\", \"design\", \"chip\", \"mp\", \"ipod\", \"generation\", \"operator\", \"image\", \"electronic\", \"idea\", \"political\", \"general\", \"access\", \"pc\", \"gadget\", \"user\", \"system\", \"internet\", \"use\", \"service\", \"people\", \"technology\", \"call\", \"make\", \"software\", \"new\", \"get\", \"way\", \"say\", \"game\", \"player\", \"play\", \"mail\", \"win\", \"title\", \"match\", \"final\", \"wale\", \"round\", \"race\", \"own\", \"hip\", \"beat\", \"stuff\", \"goal\", \"spanish\", \"hop\", \"season\", \"injury\", \"station\", \"coach\", \"champion\", \"fun\", \"tour\", \"fan\", \"victory\", \"ball\", \"enjoy\", \"score\", \"blogger\", \"really\", \"side\", \"half\", \"good\", \"first\", \"minute\", \"top\", \"second\", \"feel\", \"time\", \"go\", \"well\", \"get\", \"great\", \"world\", \"set\", \"year\", \"take\", \"start\", \"last\", \"week\", \"back\", \"open\", \"think\", \"make\", \"tv\", \"virus\", \"program\", \"domain\", \"console\", \"film\", \"gaming\", \"watch\", \"language\", \"movie\", \"body\", \"box\", \"viewer\", \"processor\", \"rip\", \"silicon\", \"fake\", \"laser\", \"spyware\", \"character\", \"spam\", \"television\", \"battlefront\", \"technical\", \"loyalty\", \"recorder\", \"broadcast\", \"task\", \"simonetti\", \"infected\", \"com\", \"screen\", \"sky\", \"name\", \"award\", \"channel\", \"display\", \"good\", \"show\"], \"Freq\": [1488.0, 4796.0, 749.0, 387.0, 589.0, 899.0, 1206.0, 538.0, 511.0, 694.0, 511.0, 423.0, 256.0, 1149.0, 614.0, 414.0, 452.0, 201.0, 517.0, 406.0, 303.0, 492.0, 320.0, 275.0, 169.0, 569.0, 282.0, 166.0, 458.0, 304.0, 360.75308262453007, 322.4781554990365, 254.63900587733482, 247.49153693190368, 230.0424342565307, 222.7618205556312, 224.69865774053002, 225.90813887204806, 223.9948122441218, 202.74413904821847, 173.09226400310112, 184.23655648117125, 168.31627464981432, 154.8151714363122, 216.81726997888222, 144.7357485288972, 147.2246222457037, 141.2114150731331, 141.43835685436363, 149.2345729356907, 131.29623432047035, 138.41440882344062, 121.02897215940305, 119.95117899424035, 118.79409899982736, 117.5133938619717, 388.3578804927603, 116.28176520883935, 114.12384224647127, 112.78875271900523, 166.35659039605386, 148.09673409649326, 402.3118431892479, 259.95617075062734, 220.01323451437847, 316.1101408473449, 4032.9632107871157, 262.9946578253714, 246.98780521919903, 177.28149908789567, 228.5958859382639, 326.4753251993855, 340.9195190678869, 330.4127809697552, 246.84111665207595, 269.8977900621432, 321.5709941676069, 199.14762962491417, 437.42432635249935, 402.85547073053294, 376.7887825398712, 419.03984967732976, 250.99804275060148, 272.8334364797007, 279.55344599786935, 271.1248680522542, 255.70808715512857, 244.23675273301237, 229.87025909175702, 510.65896488130346, 303.9123661301615, 319.5857691887207, 274.72301492845236, 269.5838761424829, 219.82904060831183, 200.7981961305529, 210.39857037031734, 185.66145892217241, 180.06422116881572, 172.12033612070573, 169.55085818123533, 161.85810448355906, 157.90629836057508, 141.68706747248953, 140.4222487409732, 139.59268222616566, 141.00203076619485, 136.3365131031863, 142.6076385480415, 137.2195716099388, 127.12549804383342, 124.82353826177896, 118.49236942776818, 108.61183150373853, 108.97128538495423, 106.98942953107296, 107.99392167698441, 112.45713585227189, 109.9210301315872, 405.84429160776546, 271.15373391417046, 178.41617895630583, 142.76537091844568, 423.46708452260793, 189.1612685213638, 600.1635217111452, 277.00975185734376, 347.9150749134727, 634.9150590283435, 242.80040085700915, 325.16952170568715, 223.38792917778005, 178.308014390685, 251.6469154639448, 545.7464857823502, 281.314901103993, 197.67710384828385, 202.24667014681665, 200.8500585871511, 173.98666955803807, 588.5173398835548, 537.9124146922217, 302.63330146972794, 281.23114018475695, 246.7009940841176, 224.17051426435887, 214.92306334238327, 201.3933849161469, 195.55293624796047, 209.58970168032948, 182.46983261395692, 195.02928963342046, 196.42123938514715, 176.98988254069133, 139.80602050209845, 150.97864900811933, 122.58172038734763, 117.96857506699054, 114.33685737948656, 116.08447290923694, 113.58790441912201, 105.60278245681107, 108.86960488191139, 104.39668159825095, 98.30853523608336, 98.83234364798673, 99.46610392030092, 88.42271633427158, 88.7628003227361, 83.32290564890613, 133.5384830719631, 230.35535213780904, 227.30517638225905, 281.836234185083, 329.1676188434021, 234.9690672662719, 628.042156522042, 376.80059378704004, 707.7870963814223, 362.635980298938, 207.77017073989583, 322.9674313244359, 188.3578778456456, 236.43054767623917, 200.73899196266925, 165.9231539263291, 217.33624991301969, 1487.8477292759724, 748.6370852496273, 510.460395742532, 422.4769954103935, 275.06275241202883, 242.3612926420552, 142.8005956159699, 134.69389460311018, 122.44746686175552, 97.56260431834907, 93.82315828547742, 99.3192806523215, 83.18564647200371, 73.4899665560771, 75.43417203299362, 72.68148696052177, 71.98725856229977, 71.82169371509833, 65.14833248719603, 64.51695606980914, 68.98748997233191, 59.50662837230389, 57.18999084683849, 59.22762850177935, 56.108685342223, 161.02181203501502, 52.87761698698897, 52.68517105383817, 62.152710587763956, 46.48273235675788, 59.309114261831574, 180.67530852921396, 103.59118807818062, 153.9831405350078, 326.1298650726619, 361.2882192389372, 124.91917086711352, 229.45473809559894, 181.89273737822685, 118.17095200196776, 335.89799359609214, 318.4900024295489, 214.52203156878105, 306.1100644170392, 122.07796382477557, 216.02014529272668, 197.82294018649827, 326.4812674763508, 207.15212506159548, 139.96446991505042, 174.21859542668474, 146.22237882560728, 144.47504241841307, 136.85391228524418, 144.89104104578146, 153.2257968740119, 386.90629679354674, 256.06253462440293, 200.91440499061346, 165.9688995783659, 168.51882557073674, 147.9530736074669, 147.45890118868536, 140.37874475762573, 104.60307763287153, 104.47602580256789, 83.60783183535708, 71.57423087417405, 62.466856352822745, 59.49186277664606, 58.52829110950757, 53.439209667500286, 52.51605519968107, 52.24343505807147, 50.88159767566957, 47.52386253550804, 118.91618834868014, 45.38679044213848, 48.69642699419841, 41.798041914492046, 40.12121687456169, 39.77874496821482, 36.542208403219384, 43.016874522300476, 34.81984600656112, 30.186403245791393, 30.975935667811875, 76.4085539393633, 68.19405556642332, 140.6023072902053, 55.018896953009204, 51.920060578097, 44.37911764432593, 66.03713911691982, 62.397783792589806], \"Total\": [1488.0, 4796.0, 749.0, 387.0, 589.0, 899.0, 1206.0, 538.0, 511.0, 694.0, 511.0, 423.0, 256.0, 1149.0, 614.0, 414.0, 452.0, 201.0, 517.0, 406.0, 303.0, 492.0, 320.0, 275.0, 169.0, 569.0, 282.0, 166.0, 458.0, 304.0, 361.4372024584367, 323.17621293564497, 255.2883547865424, 248.15005273207336, 230.70019005486995, 223.42826422767834, 225.3822714600537, 226.60869893563753, 224.70638889304306, 203.40398730697495, 173.74462790352717, 184.9316052047049, 168.97216566557208, 155.46960382791556, 217.77951120458766, 145.39009439681163, 147.89668136264814, 141.8741565905174, 142.10745772249712, 149.951713238061, 131.96336765789817, 139.16045265755184, 121.68633534620005, 120.60733308853807, 119.44835685950936, 118.16184178742772, 390.5449077574217, 116.94632405190967, 114.79303582093503, 113.45150251807246, 167.40714465419217, 149.01382069325655, 411.0407670337757, 266.12749636575256, 224.51385036797726, 326.3738426192796, 4796.439628718703, 280.4616243388845, 262.2000968150167, 182.80340989427387, 256.0615952059806, 400.99607090070094, 440.23718199780467, 423.6854171558204, 299.7098875022375, 345.6834860570037, 463.36177250719743, 229.25299905439604, 974.5848938971836, 904.5102727936832, 915.0208164068972, 1206.8976064110877, 409.46655945237774, 616.8069676299932, 770.9910672519308, 899.8882272280676, 637.5374534570271, 751.4097169181214, 487.4793937380733, 511.36313947744753, 304.57988603740256, 320.3421120011452, 275.38965406277305, 270.25764848104217, 220.54416030171072, 201.47440975705743, 211.12771531412508, 186.32436460070716, 180.74129485685287, 172.791706429063, 170.21958346722886, 162.52629051470387, 158.57518994139497, 142.3494245691507, 141.08090880603407, 140.25146390195422, 141.6762789001201, 136.99698094740774, 143.3045828611191, 137.89904864886947, 127.8110445981295, 125.4996983603355, 119.15490611572746, 109.2751944781231, 109.6393709123996, 107.65375386287505, 108.66779135598264, 113.16391641091151, 110.65673123762538, 414.3666393442265, 280.7824061520046, 182.5592393443997, 145.28208447257686, 452.1503759398402, 194.79881554825602, 694.8966205351535, 299.93353589286585, 458.12166681963225, 1149.8329979398266, 326.1860424150588, 616.8069676299932, 347.8821975929733, 245.5873906616372, 614.8587361580383, 4796.439628718703, 915.0208164068972, 410.5583111702046, 488.7971718586905, 904.5102727936832, 730.5194173007641, 589.247082074035, 538.6505200650868, 303.443082032631, 282.0076267711111, 247.4520580461383, 224.8884522653519, 215.650479051583, 202.1348924940064, 196.2768553084157, 210.3758835150137, 183.19111951574402, 195.80497317899452, 197.2156185200187, 177.74177156134542, 140.5580075222026, 151.7942049725046, 123.33081114995971, 118.70504557177969, 115.06608802201221, 116.82630432745891, 114.35085139106438, 106.33011977962293, 109.631779629787, 105.16122446244371, 99.0354129032848, 99.56472416845143, 100.2480465756792, 89.15581261212286, 89.51031504716651, 84.03936294211502, 135.4120558347292, 242.47549806791898, 252.02970893888775, 336.34372018393924, 406.5224872166841, 277.6159717254769, 899.8882272280676, 517.8452301361434, 1206.8976064110877, 614.8587361580383, 353.37727057201346, 974.5848938971836, 410.5583111702046, 904.5102727936832, 751.4097169181214, 458.23391984850355, 4796.439628718703, 1488.458001384695, 749.2854731958571, 511.07005203211446, 423.27662405096686, 275.67642142248894, 242.97182965091008, 143.4022898330991, 135.29773319115785, 123.05331144212667, 98.17597860961797, 94.42920509522051, 99.99801760127666, 83.79845372125389, 74.09014614872584, 76.0532919507847, 73.28265887118418, 72.58673177671815, 72.44928944222028, 65.74858917677862, 65.11569696606144, 69.6479735382016, 60.105824121229304, 57.787562981246985, 59.861361888989066, 56.709083142576205, 162.7757650835062, 53.47383461161099, 53.285370571767444, 62.865001904264155, 47.084146441116154, 60.15700076275134, 220.15890823837708, 117.361036900367, 190.38872081015072, 492.38808225319207, 569.54175831944, 151.40796364507895, 332.0435472964077, 253.18770480375707, 151.89799883068477, 730.5194173007641, 770.9910672519308, 417.4647247657384, 751.4097169181214, 177.60912403042684, 475.26471012845, 450.0647247695216, 1149.8329979398266, 637.5374534570271, 261.0322791840986, 488.7971718586905, 302.98997303500647, 298.9482587256963, 257.44262314298595, 347.9224137062347, 974.5848938971836, 387.5982623429932, 256.76029037450905, 201.6482377608394, 166.65114972105164, 169.23437899440842, 148.63513235813818, 148.17738334244257, 141.0790624931003, 105.3051251958865, 105.1983521346036, 84.35995023995157, 72.30531098529865, 63.144340333893105, 60.19815459896203, 59.27471068877349, 54.1373880128415, 53.20715747543027, 52.936967002845506, 51.57061664847882, 48.22302830233021, 120.67811585908503, 46.06571163457102, 49.440357023388216, 42.50103014298909, 40.832936003219466, 40.49840354767414, 37.2309136543896, 43.89137871063479, 35.536578717040584, 30.887398741742366, 31.780264117725512, 89.3391616226361, 80.60792549800723, 216.76417385830132, 66.0776147021056, 62.582114626130604, 54.21580363491357, 492.38808225319207, 424.00983189109326], \"Category\": [\"Default\", \"Default\", \"Default\", \"Default\", \"Default\", \"Default\", \"Default\", \"Default\", \"Default\", \"Default\", \"Default\", \"Default\", \"Default\", \"Default\", \"Default\", \"Default\", \"Default\", \"Default\", \"Default\", \"Default\", \"Default\", \"Default\", \"Default\", \"Default\", \"Default\", \"Default\", \"Default\", \"Default\", \"Default\", \"Default\", \"Topic1\", \"Topic1\", \"Topic1\", \"Topic1\", \"Topic1\", \"Topic1\", \"Topic1\", \"Topic1\", \"Topic1\", \"Topic1\", \"Topic1\", \"Topic1\", \"Topic1\", \"Topic1\", \"Topic1\", \"Topic1\", \"Topic1\", \"Topic1\", \"Topic1\", \"Topic1\", \"Topic1\", \"Topic1\", \"Topic1\", \"Topic1\", \"Topic1\", \"Topic1\", \"Topic1\", \"Topic1\", \"Topic1\", \"Topic1\", \"Topic1\", \"Topic1\", \"Topic1\", \"Topic1\", \"Topic1\", \"Topic1\", \"Topic1\", \"Topic1\", \"Topic1\", \"Topic1\", \"Topic1\", \"Topic1\", \"Topic1\", \"Topic1\", \"Topic1\", \"Topic1\", \"Topic1\", \"Topic1\", \"Topic1\", \"Topic1\", \"Topic1\", \"Topic1\", \"Topic1\", \"Topic1\", \"Topic1\", \"Topic1\", \"Topic1\", \"Topic1\", \"Topic1\", \"Topic2\", \"Topic2\", \"Topic2\", \"Topic2\", \"Topic2\", \"Topic2\", \"Topic2\", \"Topic2\", \"Topic2\", \"Topic2\", \"Topic2\", \"Topic2\", \"Topic2\", \"Topic2\", \"Topic2\", \"Topic2\", \"Topic2\", \"Topic2\", \"Topic2\", \"Topic2\", \"Topic2\", \"Topic2\", \"Topic2\", \"Topic2\", \"Topic2\", \"Topic2\", \"Topic2\", \"Topic2\", \"Topic2\", \"Topic2\", \"Topic2\", \"Topic2\", \"Topic2\", \"Topic2\", \"Topic2\", \"Topic2\", \"Topic2\", \"Topic2\", \"Topic2\", \"Topic2\", \"Topic2\", \"Topic2\", \"Topic2\", \"Topic2\", \"Topic2\", \"Topic2\", \"Topic2\", \"Topic2\", \"Topic2\", \"Topic2\", \"Topic2\", \"Topic3\", \"Topic3\", \"Topic3\", \"Topic3\", \"Topic3\", \"Topic3\", \"Topic3\", \"Topic3\", \"Topic3\", \"Topic3\", \"Topic3\", \"Topic3\", \"Topic3\", \"Topic3\", \"Topic3\", \"Topic3\", \"Topic3\", \"Topic3\", \"Topic3\", \"Topic3\", \"Topic3\", \"Topic3\", \"Topic3\", \"Topic3\", \"Topic3\", \"Topic3\", \"Topic3\", \"Topic3\", \"Topic3\", \"Topic3\", \"Topic3\", \"Topic3\", \"Topic3\", \"Topic3\", \"Topic3\", \"Topic3\", \"Topic3\", \"Topic3\", \"Topic3\", \"Topic3\", \"Topic3\", \"Topic3\", \"Topic3\", \"Topic3\", \"Topic3\", \"Topic3\", \"Topic3\", \"Topic4\", \"Topic4\", \"Topic4\", \"Topic4\", \"Topic4\", \"Topic4\", \"Topic4\", \"Topic4\", \"Topic4\", \"Topic4\", \"Topic4\", \"Topic4\", \"Topic4\", \"Topic4\", \"Topic4\", \"Topic4\", \"Topic4\", \"Topic4\", \"Topic4\", \"Topic4\", \"Topic4\", \"Topic4\", \"Topic4\", \"Topic4\", \"Topic4\", \"Topic4\", \"Topic4\", \"Topic4\", \"Topic4\", \"Topic4\", \"Topic4\", \"Topic4\", \"Topic4\", \"Topic4\", \"Topic4\", \"Topic4\", \"Topic4\", \"Topic4\", \"Topic4\", \"Topic4\", \"Topic4\", \"Topic4\", \"Topic4\", \"Topic4\", \"Topic4\", \"Topic4\", \"Topic4\", \"Topic4\", \"Topic4\", \"Topic4\", \"Topic4\", \"Topic4\", \"Topic4\", \"Topic4\", \"Topic4\", \"Topic4\", \"Topic5\", \"Topic5\", \"Topic5\", \"Topic5\", \"Topic5\", \"Topic5\", \"Topic5\", \"Topic5\", \"Topic5\", \"Topic5\", \"Topic5\", \"Topic5\", \"Topic5\", \"Topic5\", \"Topic5\", \"Topic5\", \"Topic5\", \"Topic5\", \"Topic5\", \"Topic5\", \"Topic5\", \"Topic5\", \"Topic5\", \"Topic5\", \"Topic5\", \"Topic5\", \"Topic5\", \"Topic5\", \"Topic5\", \"Topic5\", \"Topic5\", \"Topic5\", \"Topic5\", \"Topic5\", \"Topic5\", \"Topic5\", \"Topic5\", \"Topic5\", \"Topic5\"], \"logprob\": [30.0, 29.0, 28.0, 27.0, 26.0, 25.0, 24.0, 23.0, 22.0, 21.0, 20.0, 19.0, 18.0, 17.0, 16.0, 15.0, 14.0, 13.0, 12.0, 11.0, 10.0, 9.0, 8.0, 7.0, 6.0, 5.0, 4.0, 3.0, 2.0, 1.0, -5.1459, -5.258, -5.4942, -5.5227, -5.5958, -5.628, -5.6193, -5.6139, -5.6224, -5.7221, -5.8802, -5.8178, -5.9082, -5.9918, -5.655, -6.0592, -6.0421, -6.0838, -6.0822, -6.0285, -6.1566, -6.1038, -6.238, -6.247, -6.2567, -6.2675, -5.0721, -6.2781, -6.2968, -6.3086, -5.9199, -6.0362, -5.0368, -5.4736, -5.6404, -5.278, -2.7318, -5.4619, -5.5247, -5.8563, -5.6021, -5.2457, -5.2024, -5.2337, -5.5253, -5.436, -5.2609, -5.74, -4.9532, -5.0355, -5.1024, -4.9961, -5.5086, -5.4252, -5.4009, -5.4315, -5.49, -5.5359, -5.5966, -4.2474, -4.7664, -4.7161, -4.8674, -4.8863, -5.0903, -5.1808, -5.1341, -5.2592, -5.2898, -5.3349, -5.35, -5.3964, -5.4211, -5.5295, -5.5385, -5.5444, -5.5344, -5.568, -5.523, -5.5616, -5.638, -5.6562, -5.7083, -5.7954, -5.7921, -5.8104, -5.8011, -5.7606, -5.7834, -4.4772, -4.8804, -5.299, -5.5219, -4.4347, -5.2405, -4.0859, -4.8591, -4.6312, -4.0296, -4.9909, -4.6988, -5.0742, -5.2996, -4.9551, -4.181, -4.8437, -5.1965, -5.1736, -5.1806, -5.3242, -3.9384, -4.0284, -4.6035, -4.6769, -4.8079, -4.9036, -4.9458, -5.0108, -5.0402, -4.9709, -5.1095, -5.0429, -5.0358, -5.14, -5.3758, -5.2989, -5.5073, -5.5456, -5.5769, -5.5617, -5.5835, -5.6564, -5.6259, -5.6679, -5.7279, -5.7226, -5.7162, -5.8339, -5.8301, -5.8933, -5.4217, -4.8764, -4.8898, -4.6747, -4.5195, -4.8566, -3.8734, -4.3843, -3.7539, -4.4227, -4.9796, -4.5385, -5.0777, -4.8504, -5.014, -5.2045, -4.9346, -2.9445, -3.6313, -4.0142, -4.2034, -4.6325, -4.7591, -5.2881, -5.3465, -5.4419, -5.6691, -5.7081, -5.6512, -5.8285, -5.9524, -5.9263, -5.9635, -5.9731, -5.9754, -6.0729, -6.0826, -6.0156, -6.1635, -6.2032, -6.1682, -6.2223, -5.168, -6.2816, -6.2852, -6.12, -6.4105, -6.1668, -5.0528, -5.6091, -5.2127, -4.4622, -4.3599, -5.4219, -4.8138, -5.0461, -5.4774, -4.4327, -4.486, -4.8811, -4.5256, -5.4449, -4.8742, -4.9622, -4.4612, -4.9161, -5.3082, -5.0892, -5.2644, -5.2764, -5.3306, -5.2736, -5.2176, -3.2422, -3.655, -3.8975, -4.0886, -4.0734, -4.2035, -4.2069, -4.2561, -4.5503, -4.5515, -4.7743, -4.9297, -5.0658, -5.1146, -5.1309, -5.2219, -5.2393, -5.2445, -5.2709, -5.3392, -4.422, -5.3852, -5.3148, -5.4676, -5.5085, -5.5171, -5.602, -5.4388, -5.6502, -5.793, -5.7672, -4.8643, -4.9781, -4.2545, -5.1928, -5.2507, -5.4077, -5.0102, -5.0669], \"loglift\": [30.0, 29.0, 28.0, 27.0, 26.0, 25.0, 24.0, 23.0, 22.0, 21.0, 20.0, 19.0, 18.0, 17.0, 16.0, 15.0, 14.0, 13.0, 12.0, 11.0, 10.0, 9.0, 8.0, 7.0, 6.0, 5.0, 4.0, 3.0, 2.0, 1.0, 0.984, 0.9838, 0.9834, 0.9833, 0.9831, 0.9829, 0.9829, 0.9828, 0.9828, 0.9827, 0.9822, 0.9822, 0.982, 0.9817, 0.9815, 0.9814, 0.9814, 0.9812, 0.9812, 0.9811, 0.9809, 0.9806, 0.9805, 0.9805, 0.9804, 0.9804, 0.9803, 0.9802, 0.9801, 0.9801, 0.9796, 0.9798, 0.9645, 0.9625, 0.9657, 0.954, 0.8126, 0.9216, 0.9262, 0.9553, 0.8725, 0.7803, 0.7303, 0.7373, 0.7919, 0.7384, 0.6206, 0.8451, 0.1848, 0.1771, 0.0987, -0.0719, 0.4965, 0.1702, -0.0286, -0.2138, 0.0724, -0.1379, 0.2342, 1.5355, 1.5347, 1.5345, 1.5344, 1.5344, 1.5336, 1.5335, 1.5334, 1.5333, 1.5331, 1.533, 1.5329, 1.5327, 1.5326, 1.5322, 1.5322, 1.5322, 1.5321, 1.532, 1.532, 1.5319, 1.5315, 1.5315, 1.5313, 1.5308, 1.5307, 1.5307, 1.5306, 1.5306, 1.5302, 1.5161, 1.502, 1.5139, 1.5194, 1.4713, 1.5075, 1.3903, 1.4574, 1.2617, 0.943, 1.2416, 0.8967, 1.0939, 1.2167, 0.6435, -0.6366, 0.3574, 0.806, 0.6544, 0.032, 0.1021, 1.7027, 1.7026, 1.7013, 1.7012, 1.7009, 1.7007, 1.7006, 1.7003, 1.7003, 1.7002, 1.7, 1.7, 1.6999, 1.6997, 1.6986, 1.6986, 1.6979, 1.6977, 1.6976, 1.6976, 1.6973, 1.6971, 1.697, 1.6966, 1.6966, 1.6966, 1.6961, 1.6957, 1.6956, 1.6954, 1.69, 1.6527, 1.6007, 1.5271, 1.4929, 1.5372, 1.3443, 1.386, 1.1703, 1.176, 1.1728, 0.5995, 0.9248, 0.3622, 0.384, 0.6881, -1.3902, 1.77, 1.7696, 1.7693, 1.7686, 1.7682, 1.7679, 1.7662, 1.766, 1.7655, 1.7642, 1.764, 1.7636, 1.7631, 1.7623, 1.7623, 1.7622, 1.7622, 1.7618, 1.7613, 1.7612, 1.7609, 1.7604, 1.7601, 1.7598, 1.7598, 1.7596, 1.7592, 1.7591, 1.7591, 1.7576, 1.7563, 1.5728, 1.6456, 1.5582, 1.3585, 1.3153, 1.5781, 1.4009, 1.4397, 1.5194, 0.9935, 0.8864, 1.1047, 0.8724, 1.3955, 0.982, 0.9484, 0.5115, 0.6463, 1.1472, 0.7388, 1.0419, 1.0433, 1.1386, 0.8945, -0.0796, 2.8178, 2.8168, 2.8159, 2.8155, 2.8153, 2.815, 2.8147, 2.8146, 2.8129, 2.8127, 2.8106, 2.8094, 2.8088, 2.8078, 2.8069, 2.8066, 2.8065, 2.8064, 2.8061, 2.805, 2.8049, 2.8047, 2.8044, 2.8029, 2.802, 2.8016, 2.8009, 2.7994, 2.7992, 2.7966, 2.7939, 2.6632, 2.6523, 2.3867, 2.6364, 2.6328, 2.6194, 0.8105, 0.9033]}, \"token.table\": {\"Topic\": [1, 3, 1, 2, 3, 1, 1, 2, 3, 4, 5, 2, 1, 3, 1, 1, 4, 5, 1, 2, 3, 4, 4, 5, 4, 2, 3, 4, 5, 5, 1, 2, 3, 5, 2, 1, 3, 3, 1, 3, 1, 4, 1, 5, 5, 1, 3, 1, 3, 4, 5, 1, 2, 3, 5, 2, 3, 3, 2, 2, 1, 2, 1, 2, 3, 2, 3, 3, 1, 5, 5, 1, 2, 2, 3, 3, 4, 5, 2, 4, 5, 3, 3, 4, 2, 3, 5, 4, 1, 2, 4, 5, 1, 2, 3, 1, 2, 3, 4, 1, 1, 4, 2, 3, 4, 5, 3, 3, 1, 3, 4, 1, 3, 4, 5, 1, 2, 3, 4, 4, 2, 3, 4, 5, 1, 2, 3, 1, 3, 4, 1, 4, 2, 2, 1, 2, 4, 1, 2, 3, 4, 4, 1, 3, 3, 2, 1, 2, 5, 3, 4, 2, 3, 3, 1, 2, 3, 5, 5, 1, 2, 4, 1, 1, 2, 2, 1, 1, 2, 5, 1, 4, 1, 2, 3, 4, 1, 2, 3, 2, 4, 1, 1, 2, 4, 3, 1, 2, 4, 5, 3, 2, 3, 1, 3, 4, 5, 1, 2, 3, 1, 2, 3, 4, 2, 1, 2, 4, 3, 4, 3, 1, 3, 2, 3, 1, 2, 3, 3, 1, 2, 4, 4, 1, 3, 2, 2, 1, 3, 5, 5, 1, 4, 4, 2, 1, 2, 4, 5, 1, 1, 2, 5, 3, 1, 4, 5, 2, 4, 1, 3, 2, 1, 2, 3, 4, 3, 5, 1, 4, 2, 4, 1, 1, 2, 3, 4, 2, 1, 1, 2, 3, 1, 2, 3, 4, 5, 2, 1, 2, 3, 4, 5, 1, 4, 5, 5, 1, 2, 3, 5, 1, 2, 3, 1, 2, 5, 4, 1, 3, 1, 5, 1, 2, 3, 4, 4, 1, 2, 2, 4, 2, 1, 3, 1, 2, 3, 4, 5, 1, 5, 2, 5, 2, 3, 5, 1, 3, 1, 2, 3, 4, 1, 2, 3, 4, 4, 2, 4, 3, 4, 5, 1, 3, 2, 3, 4, 2, 4, 5, 5, 4, 1, 3, 4, 5, 1, 2, 3, 4, 1, 2, 4, 1, 2, 3, 4, 5, 4, 1, 1, 2, 3, 4, 1, 2, 3, 4, 1, 2, 4, 5], \"Freq\": [0.0073848668335742785, 0.9895721556989534, 0.03257496233193078, 0.7247929118854598, 0.24024034719798948, 0.9980832137368174, 0.41201248456882456, 0.30709683863087456, 0.10600851724980367, 0.13223742873429117, 0.0426219811622922, 0.9974816381756412, 0.9960203037593043, 0.9938360940723602, 0.9969649350756781, 0.998013867317334, 0.1664709001617378, 0.832354500808689, 0.3813368924975145, 0.09366169289412637, 0.04014072552605416, 0.48168870631264993, 0.9946444855556913, 0.9910931665970798, 0.9852862194854155, 0.9978745769671982, 0.9947678834468783, 0.9807669805994095, 0.9957331620167184, 0.9957774749719184, 0.9931964653443556, 0.9702317720365219, 0.025667507196733382, 0.9937977978049868, 0.995418145665527, 0.41032633413373704, 0.5886060517228779, 0.9940605256635586, 0.8680366268743217, 0.1308597929961289, 0.9969794492534029, 0.9863714103759218, 0.1597900623802921, 0.8309083243775189, 0.9953750664323286, 0.9942465928530727, 0.9969317990483121, 0.9798950026442508, 0.017816272775350014, 0.9982393699316747, 0.975448155029954, 0.2401108874933616, 0.7596235349789985, 0.9985398183090449, 0.9986150627561545, 0.9651601883249451, 0.0320532903871753, 0.9982132765945728, 0.9897147743925264, 0.9990466560983926, 0.9957142392687927, 0.997532646972079, 0.9962464376128949, 0.9941684186339372, 0.9929270695309952, 0.9940651487688074, 0.9958889033004353, 0.9964269520557011, 0.166003257290172, 0.8115714800852853, 0.9960927379010492, 0.02191069602592922, 0.9750259731538503, 0.9934803854147051, 0.9960493646676727, 0.9875504150124559, 0.98624032644457, 0.996106586307943, 0.9939272543741691, 0.9890907280786227, 0.006143420671295793, 0.997317692579209, 0.21725105171914683, 0.7768370940260402, 0.996372762084614, 0.9958266897261716, 0.9957269028656844, 0.9977994221770354, 0.8129755467871597, 0.14463982120753147, 0.009975160083278032, 0.032419270270653604, 0.4426020040742564, 0.5269071477074481, 0.02918254971918174, 0.0807666853712944, 0.24054425860581158, 0.04565073520986205, 0.6338429004138538, 0.9943597993624558, 0.9949624337945172, 0.9856107201405402, 0.09522686869356155, 0.9006874663932697, 0.9996922980801144, 0.9920542304373023, 0.9876324271659351, 0.988957674576541, 0.32472297670138844, 0.26749720621712736, 0.40723455274846254, 0.781061320225973, 0.10414150936346306, 0.10992714877254434, 0.005785639409081281, 0.3631689287892963, 0.06485159442666005, 0.15953492228958374, 0.41245614055355795, 0.9961428955289268, 0.0995149999889794, 0.10357683672322346, 0.6620793876817813, 0.1340406122300539, 0.7745824613280858, 0.20670675654209913, 0.018172022553151573, 0.0957158034127102, 0.21958331371151166, 0.6869016480206261, 0.9769753353207395, 0.022545584661247835, 0.995898586112045, 0.9975453039574392, 0.015757235970882435, 0.1733295956797068, 0.8088714465052983, 0.0096532867760068, 0.97980860776469, 0.0096532867760068, 0.9904717368185593, 0.9937985666156381, 0.9949643767672715, 0.9870360374914501, 0.9943280697740298, 0.9982591401752408, 0.073349583715301, 0.9235379404153807, 0.9712698777529911, 0.9943854696237561, 0.9982232092805251, 0.15128812560371016, 0.846493083735045, 0.9942372582847743, 0.9682148467045477, 0.03063971033875151, 0.9985894653346639, 0.9971024658551146, 0.9823003270513185, 0.2291338953008075, 0.41325934688181354, 0.35597587305661166, 0.9988704741867935, 0.9953654947101096, 0.9946586107255164, 0.9960183301883263, 0.9926997342141525, 0.01376632230505693, 0.9842920448115706, 0.9796013687785323, 0.9964206403059865, 0.9969839486084798, 0.4483960327483821, 0.06259075056670779, 0.33142315464010846, 0.15698991535584086, 0.6129926710881798, 0.2906220233445952, 0.09524587319696817, 0.9980961118445906, 0.9971946763641828, 0.9968563915938354, 0.9973138765700675, 0.17172148263579826, 0.8255840511336455, 0.9987923151638132, 0.2730809471059834, 0.6410215916277294, 0.08623608855978424, 0.9886086415776715, 0.9968953314422373, 0.8634377866709558, 0.13527191991178308, 0.06458631862824249, 0.15223917962371444, 0.13378594572993088, 0.6504764947558708, 0.9919080479050404, 0.9992898598874009, 0.998173148973956, 0.44554496739466376, 0.22221969837798367, 0.2609146707323589, 0.07075652087657192, 0.9989320417505895, 0.4622389196753419, 0.0038843606695406884, 0.5321574117270743, 0.9895450236139678, 0.9900196261364294, 0.9934979407359228, 0.942028637671555, 0.05720821686264504, 0.04948953645056014, 0.948549448635736, 0.3471711251843201, 0.06628565635977472, 0.5866280587840063, 0.9995806817181592, 0.8241303016676619, 0.1735011161405604, 0.9979062517401289, 0.9996190060983839, 0.9986303379756143, 0.994298812970353, 0.9938547443759573, 0.9927226064361924, 0.8943160719427223, 0.105443379661369, 0.9800964895528096, 0.9967853041115676, 0.9915944767046898, 0.0059734607030403, 0.9954547420494781, 0.9903075235978469, 0.14989173167714498, 0.027253042123117268, 0.8221334373807042, 0.9876932544492174, 0.9916610456822277, 0.15022101999585083, 0.744973629775342, 0.10730072856846488, 0.9969836419819526, 0.9377397018930994, 0.0606143533543068, 0.9953654655487755, 0.9982070497165718, 0.9982075186607742, 0.9682532732970882, 0.027351787381273678, 0.9985850809679138, 0.8408320154500424, 0.11383443601183317, 0.045241891235472155, 0.9769742785404001, 0.13431959492397486, 0.8506907678518407, 0.9963604594380243, 0.9886143689750378, 0.2804243596861518, 0.7188342741250652, 0.9987903778153912, 0.47181481505571266, 0.27283204522786864, 0.04102737522223588, 0.2153937199167384, 0.9987099987982808, 0.9983038973847531, 0.019310789050564322, 0.2529713365623926, 0.728016747206275, 0.10665132670546626, 0.2799597326018489, 0.16219889269789659, 0.4399367226600483, 0.011109513198486068, 0.9967618130393725, 0.18395799845517324, 0.3325394587458901, 0.2429188953959339, 0.09197899922758662, 0.14622302441308643, 0.11076930081178712, 0.886154406494297, 0.9789907113255685, 0.9849006647118992, 0.993483700064008, 0.005121050000329938, 0.14886873624227756, 0.8435895053729062, 0.05845698247246139, 0.48227010539780646, 0.45791302936761424, 0.993937109647177, 0.008286506570650248, 0.9860942819073796, 0.9919168178211553, 0.9930916033776467, 0.9960300552630241, 0.9973169121429487, 0.9889352370484861, 0.2605041806038154, 0.04597132598890861, 0.15706869712877106, 0.5363321365372671, 0.9906964480761786, 0.9922068993404997, 0.9952265904682824, 0.9936543465341385, 0.9861506067157974, 0.997645310103504, 0.18941141614869034, 0.8093033235444042, 0.4015450364709523, 0.15999060046889504, 0.09411211792287943, 0.3246868068339341, 0.020390958883290546, 0.9938385072269333, 0.979691257444624, 0.9923383765019534, 0.9882113412003559, 0.40985023905593165, 0.5903795110210445, 0.9768654038599237, 0.9780051815808508, 0.01946278968320101, 0.34777868637737525, 0.034490448235772755, 0.20119428137534107, 0.4167595828489208, 0.26145780040417854, 0.2381866872791993, 0.041066670220551604, 0.459946706470178, 0.9960002373431259, 0.30718862278912745, 0.6896685746932372, 0.9907349937732456, 0.9874961275463853, 0.9984564885833678, 0.3011485113376395, 0.697864446937408, 0.16055004675118817, 0.8384280219228716, 0.9911389445875254, 0.9355294665425231, 0.06192630038579349, 0.9818773887280777, 0.9970389098197385, 0.9914402023823466, 0.778879769370572, 0.10857111936680701, 0.11093136109217239, 0.9923513633133685, 0.43864059663337995, 0.04582812203632328, 0.3622603932395078, 0.15494269831328347, 0.43565798127830835, 0.08251098130270991, 0.4818641308078259, 0.17726048600040475, 0.10539812681105147, 0.17246966205444786, 0.5150135741903652, 0.033535767621698194, 0.9975463210854283, 0.9936532019707567, 0.6949213748421561, 0.0215814091565887, 0.2762420372043353, 0.008632563662635479, 0.1956804240206786, 0.2987808624831867, 0.05049817394082028, 0.45448356546738256, 0.15915354693062725, 0.5522541109341437, 0.2835194333299698, 0.005218149079692696], \"Term\": [\"access\", \"access\", \"accord\", \"accord\", \"accord\", \"action\", \"also\", \"also\", \"also\", \"also\", \"also\", \"analyst\", \"anti\", \"apple\", \"ask\", \"attack\", \"award\", \"award\", \"back\", \"back\", \"back\", \"back\", \"ball\", \"battlefront\", \"beat\", \"bill\", \"blog\", \"blogger\", \"body\", \"box\", \"bring\", \"broadband\", \"broadband\", \"broadcast\", \"buy\", \"call\", \"call\", \"camera\", \"card\", \"card\", \"case\", \"champion\", \"channel\", \"channel\", \"character\", \"child\", \"chip\", \"claim\", \"claim\", \"coach\", \"com\", \"company\", \"company\", \"computer\", \"console\", \"consumer\", \"consumer\", \"content\", \"copy\", \"cost\", \"court\", \"datum\", \"decision\", \"demand\", \"design\", \"developer\", \"device\", \"digital\", \"display\", \"display\", \"domain\", \"drive\", \"drive\", \"dvd\", \"election\", \"electronic\", \"enjoy\", \"fake\", \"fall\", \"fan\", \"fan\", \"fast\", \"feel\", \"feel\", \"figure\", \"file\", \"film\", \"final\", \"find\", \"find\", \"find\", \"find\", \"firm\", \"firm\", \"firm\", \"first\", \"first\", \"first\", \"first\", \"force\", \"free\", \"fun\", \"gadget\", \"gadget\", \"game\", \"gaming\", \"general\", \"generation\", \"get\", \"get\", \"get\", \"give\", \"give\", \"give\", \"give\", \"go\", \"go\", \"go\", \"go\", \"goal\", \"good\", \"good\", \"good\", \"good\", \"government\", \"government\", \"government\", \"great\", \"great\", \"great\", \"group\", \"group\", \"grow\", \"growth\", \"half\", \"half\", \"half\", \"high\", \"high\", \"high\", \"hip\", \"hop\", \"human\", \"idea\", \"image\", \"increase\", \"industry\", \"industry\", \"infected\", \"information\", \"injury\", \"internet\", \"internet\", \"ipod\", \"issue\", \"issue\", \"labour\", \"language\", \"laser\", \"last\", \"last\", \"last\", \"law\", \"legal\", \"let\", \"lift\", \"local\", \"low\", \"low\", \"loyalty\", \"machine\", \"mail\", \"make\", \"make\", \"make\", \"make\", \"many\", \"many\", \"many\", \"market\", \"match\", \"medium\", \"message\", \"minute\", \"minute\", \"mobile\", \"month\", \"month\", \"month\", \"movie\", \"mp\", \"music\", \"music\", \"name\", \"name\", \"name\", \"name\", \"nation\", \"net\", \"network\", \"new\", \"new\", \"new\", \"new\", \"online\", \"open\", \"open\", \"open\", \"operator\", \"own\", \"party\", \"pay\", \"pay\", \"pc\", \"pc\", \"people\", \"people\", \"people\", \"phone\", \"plan\", \"plan\", \"play\", \"player\", \"police\", \"political\", \"predict\", \"price\", \"problem\", \"problem\", \"processor\", \"program\", \"project\", \"project\", \"race\", \"rate\", \"really\", \"really\", \"really\", \"recorder\", \"regulation\", \"release\", \"release\", \"release\", \"report\", \"right\", \"right\", \"rip\", \"rise\", \"round\", \"rule\", \"rule\", \"sale\", \"say\", \"say\", \"say\", \"score\", \"screen\", \"screen\", \"search\", \"season\", \"second\", \"second\", \"security\", \"see\", \"see\", \"see\", \"see\", \"sell\", \"send\", \"service\", \"service\", \"service\", \"set\", \"set\", \"set\", \"set\", \"set\", \"share\", \"show\", \"show\", \"show\", \"show\", \"show\", \"side\", \"side\", \"silicon\", \"simonetti\", \"site\", \"site\", \"sky\", \"sky\", \"software\", \"software\", \"software\", \"source\", \"spam\", \"spam\", \"spanish\", \"speak\", \"speed\", \"spokesman\", \"spyware\", \"start\", \"start\", \"start\", \"start\", \"station\", \"stop\", \"store\", \"study\", \"stuff\", \"survey\", \"system\", \"system\", \"take\", \"take\", \"take\", \"take\", \"take\", \"talk\", \"task\", \"tax\", \"technical\", \"technology\", \"technology\", \"television\", \"tell\", \"tell\", \"think\", \"think\", \"think\", \"think\", \"time\", \"time\", \"time\", \"time\", \"title\", \"top\", \"top\", \"tory\", \"tour\", \"tv\", \"use\", \"use\", \"user\", \"user\", \"victory\", \"video\", \"video\", \"viewer\", \"virus\", \"wale\", \"want\", \"want\", \"want\", \"watch\", \"way\", \"way\", \"way\", \"way\", \"week\", \"week\", \"week\", \"well\", \"well\", \"well\", \"well\", \"well\", \"win\", \"window\", \"work\", \"work\", \"work\", \"work\", \"world\", \"world\", \"world\", \"world\", \"year\", \"year\", \"year\", \"year\"]}, \"R\": 30, \"lambda.step\": 0.01, \"plot.opts\": {\"xlab\": \"PC1\", \"ylab\": \"PC2\"}, \"topic.order\": [3, 1, 4, 2, 5]};\n",
       "\n",
       "function LDAvis_load_lib(url, callback){\n",
       "  var s = document.createElement('script');\n",
       "  s.src = url;\n",
       "  s.async = true;\n",
       "  s.onreadystatechange = s.onload = callback;\n",
       "  s.onerror = function(){console.warn(\"failed to load library \" + url);};\n",
       "  document.getElementsByTagName(\"head\")[0].appendChild(s);\n",
       "}\n",
       "\n",
       "if(typeof(LDAvis) !== \"undefined\"){\n",
       "   // already loaded: just create the visualization\n",
       "   !function(LDAvis){\n",
       "       new LDAvis(\"#\" + \"ldavis_el72610111854711843660596718\", ldavis_el72610111854711843660596718_data);\n",
       "   }(LDAvis);\n",
       "}else if(typeof define === \"function\" && define.amd){\n",
       "   // require.js is available: use it to load d3/LDAvis\n",
       "   require.config({paths: {d3: \"https://d3js.org/d3.v5\"}});\n",
       "   require([\"d3\"], function(d3){\n",
       "      window.d3 = d3;\n",
       "      LDAvis_load_lib(\"https://cdn.jsdelivr.net/gh/bmabey/pyLDAvis@3.4.0/pyLDAvis/js/ldavis.v3.0.0.js\", function(){\n",
       "        new LDAvis(\"#\" + \"ldavis_el72610111854711843660596718\", ldavis_el72610111854711843660596718_data);\n",
       "      });\n",
       "    });\n",
       "}else{\n",
       "    // require.js not available: dynamically load d3 & LDAvis\n",
       "    LDAvis_load_lib(\"https://d3js.org/d3.v5.js\", function(){\n",
       "         LDAvis_load_lib(\"https://cdn.jsdelivr.net/gh/bmabey/pyLDAvis@3.4.0/pyLDAvis/js/ldavis.v3.0.0.js\", function(){\n",
       "                 new LDAvis(\"#\" + \"ldavis_el72610111854711843660596718\", ldavis_el72610111854711843660596718_data);\n",
       "            })\n",
       "         });\n",
       "}\n",
       "</script>"
      ],
      "text/plain": [
       "PreparedData(topic_coordinates=              x         y  topics  cluster       Freq\n",
       "topic                                                \n",
       "2      0.133557 -0.006726       1        1  37.309310\n",
       "0      0.098051 -0.109301       2        1  21.505504\n",
       "3      0.145681  0.242621       3        1  18.196401\n",
       "1     -0.032854 -0.216102       4        1  17.025622\n",
       "4     -0.344436  0.089508       5        1   5.963163, topic_info=         Term         Freq        Total Category  logprob  loglift\n",
       "765      game  1488.000000  1488.000000  Default  30.0000  30.0000\n",
       "43        say  4796.000000  4796.000000  Default  29.0000  29.0000\n",
       "1153   player   749.000000   749.000000  Default  28.0000  28.0000\n",
       "299        tv   387.000000   387.000000  Default  27.0000  27.0000\n",
       "1892    phone   589.000000   589.000000  Default  26.0000  26.0000\n",
       "...       ...          ...          ...      ...      ...      ...\n",
       "72      award    55.018897    66.077615   Topic5  -5.1928   2.6364\n",
       "266   channel    51.920061    62.582115   Topic5  -5.2507   2.6328\n",
       "5104  display    44.379118    54.215804   Topic5  -5.4077   2.6194\n",
       "450      good    66.037139   492.388082   Topic5  -5.0102   0.8105\n",
       "145      show    62.397784   424.009832   Topic5  -5.0669   0.9033\n",
       "\n",
       "[282 rows x 6 columns], token_table=      Topic      Freq    Term\n",
       "term                         \n",
       "2087      1  0.007385  access\n",
       "2087      3  0.989572  access\n",
       "62        1  0.032575  accord\n",
       "62        2  0.724793  accord\n",
       "62        3  0.240240  accord\n",
       "...     ...       ...     ...\n",
       "61        4  0.454484   world\n",
       "174       1  0.159154    year\n",
       "174       2  0.552254    year\n",
       "174       4  0.283519    year\n",
       "174       5  0.005218    year\n",
       "\n",
       "[382 rows x 3 columns], R=30, lambda_step=0.01, plot_opts={'xlab': 'PC1', 'ylab': 'PC2'}, topic_order=[3, 1, 4, 2, 5])"
      ]
     },
     "execution_count": 97,
     "metadata": {},
     "output_type": "execute_result"
    }
   ],
   "source": [
    "# VIsualize the topics\n",
    "pyLDAvis.enable_notebook()\n",
    "summary_vis=pyLDAvis.gensim.prepare(summary_lda_model,summary_corpus,summary_id2word)\n",
    "summary_vis"
   ]
  }
 ],
 "metadata": {
  "kernelspec": {
   "display_name": "Python 3.11.2 ('venv': venv)",
   "language": "python",
   "name": "python3"
  },
  "language_info": {
   "codemirror_mode": {
    "name": "ipython",
    "version": 3
   },
   "file_extension": ".py",
   "mimetype": "text/x-python",
   "name": "python",
   "nbconvert_exporter": "python",
   "pygments_lexer": "ipython3",
   "version": "3.11.2"
  },
  "orig_nbformat": 4,
  "vscode": {
   "interpreter": {
    "hash": "317495f5dbe908032249a9d3156d138aa7c9edbe911eed5485f5516df8eea52c"
   }
  }
 },
 "nbformat": 4,
 "nbformat_minor": 2
}
